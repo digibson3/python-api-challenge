{
 "cells": [
  {
   "cell_type": "markdown",
   "metadata": {},
   "source": [
    "# VacationPy\n",
    "---\n",
    "\n",
    "## Starter Code to Import Libraries and Load the Weather and Coordinates Data"
   ]
  },
  {
   "cell_type": "code",
   "execution_count": 1,
   "metadata": {},
   "outputs": [
    {
     "data": {
      "text/html": [
       "<script type=\"esms-options\">{\"shimMode\": true}</script><style>*[data-root-id],\n",
       "*[data-root-id] > * {\n",
       "  box-sizing: border-box;\n",
       "  font-family: var(--jp-ui-font-family);\n",
       "  font-size: var(--jp-ui-font-size1);\n",
       "  color: var(--vscode-editor-foreground, var(--jp-ui-font-color1));\n",
       "}\n",
       "\n",
       "/* Override VSCode background color */\n",
       ".cell-output-ipywidget-background:has(\n",
       "    > .cell-output-ipywidget-background > .lm-Widget > *[data-root-id]\n",
       "  ),\n",
       ".cell-output-ipywidget-background:has(> .lm-Widget > *[data-root-id]) {\n",
       "  background-color: transparent !important;\n",
       "}\n",
       "</style>"
      ]
     },
     "metadata": {},
     "output_type": "display_data"
    },
    {
     "data": {
      "application/javascript": "(function(root) {\n  function now() {\n    return new Date();\n  }\n\n  const force = true;\n  const py_version = '3.6.0'.replace('rc', '-rc.').replace('.dev', '-dev.');\n  const reloading = false;\n  const Bokeh = root.Bokeh;\n\n  // Set a timeout for this load but only if we are not already initializing\n  if (typeof (root._bokeh_timeout) === \"undefined\" || (force || !root._bokeh_is_initializing)) {\n    root._bokeh_timeout = Date.now() + 5000;\n    root._bokeh_failed_load = false;\n  }\n\n  function run_callbacks() {\n    try {\n      root._bokeh_onload_callbacks.forEach(function(callback) {\n        if (callback != null)\n          callback();\n      });\n    } finally {\n      delete root._bokeh_onload_callbacks;\n    }\n    console.debug(\"Bokeh: all callbacks have finished\");\n  }\n\n  function load_libs(css_urls, js_urls, js_modules, js_exports, callback) {\n    if (css_urls == null) css_urls = [];\n    if (js_urls == null) js_urls = [];\n    if (js_modules == null) js_modules = [];\n    if (js_exports == null) js_exports = {};\n\n    root._bokeh_onload_callbacks.push(callback);\n\n    if (root._bokeh_is_loading > 0) {\n      // Don't load bokeh if it is still initializing\n      console.debug(\"Bokeh: BokehJS is being loaded, scheduling callback at\", now());\n      return null;\n    } else if (js_urls.length === 0 && js_modules.length === 0 && Object.keys(js_exports).length === 0) {\n      // There is nothing to load\n      run_callbacks();\n      return null;\n    }\n\n    function on_load() {\n      root._bokeh_is_loading--;\n      if (root._bokeh_is_loading === 0) {\n        console.debug(\"Bokeh: all BokehJS libraries/stylesheets loaded\");\n        run_callbacks()\n      }\n    }\n    window._bokeh_on_load = on_load\n\n    function on_error(e) {\n      const src_el = e.srcElement\n      console.error(\"failed to load \" + (src_el.href || src_el.src));\n    }\n\n    const skip = [];\n    if (window.requirejs) {\n      window.requirejs.config({'packages': {}, 'paths': {}, 'shim': {}});\n      root._bokeh_is_loading = css_urls.length + 0;\n    } else {\n      root._bokeh_is_loading = css_urls.length + js_urls.length + js_modules.length + Object.keys(js_exports).length;\n    }\n\n    const existing_stylesheets = []\n    const links = document.getElementsByTagName('link')\n    for (let i = 0; i < links.length; i++) {\n      const link = links[i]\n      if (link.href != null) {\n        existing_stylesheets.push(link.href)\n      }\n    }\n    for (let i = 0; i < css_urls.length; i++) {\n      const url = css_urls[i];\n      const escaped = encodeURI(url)\n      if (existing_stylesheets.indexOf(escaped) !== -1) {\n        on_load()\n        continue;\n      }\n      const element = document.createElement(\"link\");\n      element.onload = on_load;\n      element.onerror = on_error;\n      element.rel = \"stylesheet\";\n      element.type = \"text/css\";\n      element.href = url;\n      console.debug(\"Bokeh: injecting link tag for BokehJS stylesheet: \", url);\n      document.body.appendChild(element);\n    }    var existing_scripts = []\n    const scripts = document.getElementsByTagName('script')\n    for (let i = 0; i < scripts.length; i++) {\n      var script = scripts[i]\n      if (script.src != null) {\n        existing_scripts.push(script.src)\n      }\n    }\n    for (let i = 0; i < js_urls.length; i++) {\n      const url = js_urls[i];\n      const escaped = encodeURI(url)\n      if (skip.indexOf(escaped) !== -1 || existing_scripts.indexOf(escaped) !== -1) {\n        if (!window.requirejs) {\n          on_load();\n        }\n        continue;\n      }\n      const element = document.createElement('script');\n      element.onload = on_load;\n      element.onerror = on_error;\n      element.async = false;\n      element.src = url;\n      console.debug(\"Bokeh: injecting script tag for BokehJS library: \", url);\n      document.head.appendChild(element);\n    }\n    for (let i = 0; i < js_modules.length; i++) {\n      const url = js_modules[i];\n      const escaped = encodeURI(url)\n      if (skip.indexOf(escaped) !== -1 || existing_scripts.indexOf(escaped) !== -1) {\n        if (!window.requirejs) {\n          on_load();\n        }\n        continue;\n      }\n      var element = document.createElement('script');\n      element.onload = on_load;\n      element.onerror = on_error;\n      element.async = false;\n      element.src = url;\n      element.type = \"module\";\n      console.debug(\"Bokeh: injecting script tag for BokehJS library: \", url);\n      document.head.appendChild(element);\n    }\n    for (const name in js_exports) {\n      const url = js_exports[name];\n      const escaped = encodeURI(url)\n      if (skip.indexOf(escaped) >= 0 || root[name] != null) {\n        if (!window.requirejs) {\n          on_load();\n        }\n        continue;\n      }\n      var element = document.createElement('script');\n      element.onerror = on_error;\n      element.async = false;\n      element.type = \"module\";\n      console.debug(\"Bokeh: injecting script tag for BokehJS library: \", url);\n      element.textContent = `\n      import ${name} from \"${url}\"\n      window.${name} = ${name}\n      window._bokeh_on_load()\n      `\n      document.head.appendChild(element);\n    }\n    if (!js_urls.length && !js_modules.length) {\n      on_load()\n    }\n  };\n\n  function inject_raw_css(css) {\n    const element = document.createElement(\"style\");\n    element.appendChild(document.createTextNode(css));\n    document.body.appendChild(element);\n  }\n\n  const js_urls = [\"https://cdn.holoviz.org/panel/1.5.3/dist/bundled/reactiveesm/es-module-shims@^1.10.0/dist/es-module-shims.min.js\", \"https://cdn.bokeh.org/bokeh/release/bokeh-3.6.0.min.js\", \"https://cdn.bokeh.org/bokeh/release/bokeh-gl-3.6.0.min.js\", \"https://cdn.bokeh.org/bokeh/release/bokeh-widgets-3.6.0.min.js\", \"https://cdn.bokeh.org/bokeh/release/bokeh-tables-3.6.0.min.js\", \"https://cdn.holoviz.org/panel/1.5.3/dist/panel.min.js\"];\n  const js_modules = [];\n  const js_exports = {};\n  const css_urls = [];\n  const inline_js = [    function(Bokeh) {\n      Bokeh.set_log_level(\"info\");\n    },\nfunction(Bokeh) {} // ensure no trailing comma for IE\n  ];\n\n  function run_inline_js() {\n    if ((root.Bokeh !== undefined) || (force === true)) {\n      for (let i = 0; i < inline_js.length; i++) {\n        try {\n          inline_js[i].call(root, root.Bokeh);\n        } catch(e) {\n          if (!reloading) {\n            throw e;\n          }\n        }\n      }\n      // Cache old bokeh versions\n      if (Bokeh != undefined && !reloading) {\n        var NewBokeh = root.Bokeh;\n        if (Bokeh.versions === undefined) {\n          Bokeh.versions = new Map();\n        }\n        if (NewBokeh.version !== Bokeh.version) {\n          Bokeh.versions.set(NewBokeh.version, NewBokeh)\n        }\n        root.Bokeh = Bokeh;\n      }\n    } else if (Date.now() < root._bokeh_timeout) {\n      setTimeout(run_inline_js, 100);\n    } else if (!root._bokeh_failed_load) {\n      console.log(\"Bokeh: BokehJS failed to load within specified timeout.\");\n      root._bokeh_failed_load = true;\n    }\n    root._bokeh_is_initializing = false\n  }\n\n  function load_or_wait() {\n    // Implement a backoff loop that tries to ensure we do not load multiple\n    // versions of Bokeh and its dependencies at the same time.\n    // In recent versions we use the root._bokeh_is_initializing flag\n    // to determine whether there is an ongoing attempt to initialize\n    // bokeh, however for backward compatibility we also try to ensure\n    // that we do not start loading a newer (Panel>=1.0 and Bokeh>3) version\n    // before older versions are fully initialized.\n    if (root._bokeh_is_initializing && Date.now() > root._bokeh_timeout) {\n      // If the timeout and bokeh was not successfully loaded we reset\n      // everything and try loading again\n      root._bokeh_timeout = Date.now() + 5000;\n      root._bokeh_is_initializing = false;\n      root._bokeh_onload_callbacks = undefined;\n      root._bokeh_is_loading = 0\n      console.log(\"Bokeh: BokehJS was loaded multiple times but one version failed to initialize.\");\n      load_or_wait();\n    } else if (root._bokeh_is_initializing || (typeof root._bokeh_is_initializing === \"undefined\" && root._bokeh_onload_callbacks !== undefined)) {\n      setTimeout(load_or_wait, 100);\n    } else {\n      root._bokeh_is_initializing = true\n      root._bokeh_onload_callbacks = []\n      const bokeh_loaded = root.Bokeh != null && (root.Bokeh.version === py_version || (root.Bokeh.versions !== undefined && root.Bokeh.versions.has(py_version)));\n      if (!reloading && !bokeh_loaded) {\n        if (root.Bokeh) {\n          root.Bokeh = undefined;\n        }\n        console.debug(\"Bokeh: BokehJS not loaded, scheduling load and callback at\", now());\n      }\n      load_libs(css_urls, js_urls, js_modules, js_exports, function() {\n        console.debug(\"Bokeh: BokehJS plotting callback run at\", now());\n        run_inline_js();\n      });\n    }\n  }\n  // Give older versions of the autoload script a head-start to ensure\n  // they initialize before we start loading newer version.\n  setTimeout(load_or_wait, 100)\n}(window));",
      "application/vnd.holoviews_load.v0+json": ""
     },
     "metadata": {},
     "output_type": "display_data"
    },
    {
     "data": {
      "application/javascript": "\nif ((window.PyViz === undefined) || (window.PyViz instanceof HTMLElement)) {\n  window.PyViz = {comms: {}, comm_status:{}, kernels:{}, receivers: {}, plot_index: []}\n}\n\n\n    function JupyterCommManager() {\n    }\n\n    JupyterCommManager.prototype.register_target = function(plot_id, comm_id, msg_handler) {\n      if (window.comm_manager || ((window.Jupyter !== undefined) && (Jupyter.notebook.kernel != null))) {\n        var comm_manager = window.comm_manager || Jupyter.notebook.kernel.comm_manager;\n        comm_manager.register_target(comm_id, function(comm) {\n          comm.on_msg(msg_handler);\n        });\n      } else if ((plot_id in window.PyViz.kernels) && (window.PyViz.kernels[plot_id])) {\n        window.PyViz.kernels[plot_id].registerCommTarget(comm_id, function(comm) {\n          comm.onMsg = msg_handler;\n        });\n      } else if (typeof google != 'undefined' && google.colab.kernel != null) {\n        google.colab.kernel.comms.registerTarget(comm_id, (comm) => {\n          var messages = comm.messages[Symbol.asyncIterator]();\n          function processIteratorResult(result) {\n            var message = result.value;\n            console.log(message)\n            var content = {data: message.data, comm_id};\n            var buffers = []\n            for (var buffer of message.buffers || []) {\n              buffers.push(new DataView(buffer))\n            }\n            var metadata = message.metadata || {};\n            var msg = {content, buffers, metadata}\n            msg_handler(msg);\n            return messages.next().then(processIteratorResult);\n          }\n          return messages.next().then(processIteratorResult);\n        })\n      }\n    }\n\n    JupyterCommManager.prototype.get_client_comm = function(plot_id, comm_id, msg_handler) {\n      if (comm_id in window.PyViz.comms) {\n        return window.PyViz.comms[comm_id];\n      } else if (window.comm_manager || ((window.Jupyter !== undefined) && (Jupyter.notebook.kernel != null))) {\n        var comm_manager = window.comm_manager || Jupyter.notebook.kernel.comm_manager;\n        var comm = comm_manager.new_comm(comm_id, {}, {}, {}, comm_id);\n        if (msg_handler) {\n          comm.on_msg(msg_handler);\n        }\n      } else if ((plot_id in window.PyViz.kernels) && (window.PyViz.kernels[plot_id])) {\n        var comm = window.PyViz.kernels[plot_id].connectToComm(comm_id);\n        comm.open();\n        if (msg_handler) {\n          comm.onMsg = msg_handler;\n        }\n      } else if (typeof google != 'undefined' && google.colab.kernel != null) {\n        var comm_promise = google.colab.kernel.comms.open(comm_id)\n        comm_promise.then((comm) => {\n          window.PyViz.comms[comm_id] = comm;\n          if (msg_handler) {\n            var messages = comm.messages[Symbol.asyncIterator]();\n            function processIteratorResult(result) {\n              var message = result.value;\n              var content = {data: message.data};\n              var metadata = message.metadata || {comm_id};\n              var msg = {content, metadata}\n              msg_handler(msg);\n              return messages.next().then(processIteratorResult);\n            }\n            return messages.next().then(processIteratorResult);\n          }\n        }) \n        var sendClosure = (data, metadata, buffers, disposeOnDone) => {\n          return comm_promise.then((comm) => {\n            comm.send(data, metadata, buffers, disposeOnDone);\n          });\n        };\n        var comm = {\n          send: sendClosure\n        };\n      }\n      window.PyViz.comms[comm_id] = comm;\n      return comm;\n    }\n    window.PyViz.comm_manager = new JupyterCommManager();\n    \n\n\nvar JS_MIME_TYPE = 'application/javascript';\nvar HTML_MIME_TYPE = 'text/html';\nvar EXEC_MIME_TYPE = 'application/vnd.holoviews_exec.v0+json';\nvar CLASS_NAME = 'output';\n\n/**\n * Render data to the DOM node\n */\nfunction render(props, node) {\n  var div = document.createElement(\"div\");\n  var script = document.createElement(\"script\");\n  node.appendChild(div);\n  node.appendChild(script);\n}\n\n/**\n * Handle when a new output is added\n */\nfunction handle_add_output(event, handle) {\n  var output_area = handle.output_area;\n  var output = handle.output;\n  if ((output.data == undefined) || (!output.data.hasOwnProperty(EXEC_MIME_TYPE))) {\n    return\n  }\n  var id = output.metadata[EXEC_MIME_TYPE][\"id\"];\n  var toinsert = output_area.element.find(\".\" + CLASS_NAME.split(' ')[0]);\n  if (id !== undefined) {\n    var nchildren = toinsert.length;\n    var html_node = toinsert[nchildren-1].children[0];\n    html_node.innerHTML = output.data[HTML_MIME_TYPE];\n    var scripts = [];\n    var nodelist = html_node.querySelectorAll(\"script\");\n    for (var i in nodelist) {\n      if (nodelist.hasOwnProperty(i)) {\n        scripts.push(nodelist[i])\n      }\n    }\n\n    scripts.forEach( function (oldScript) {\n      var newScript = document.createElement(\"script\");\n      var attrs = [];\n      var nodemap = oldScript.attributes;\n      for (var j in nodemap) {\n        if (nodemap.hasOwnProperty(j)) {\n          attrs.push(nodemap[j])\n        }\n      }\n      attrs.forEach(function(attr) { newScript.setAttribute(attr.name, attr.value) });\n      newScript.appendChild(document.createTextNode(oldScript.innerHTML));\n      oldScript.parentNode.replaceChild(newScript, oldScript);\n    });\n    if (JS_MIME_TYPE in output.data) {\n      toinsert[nchildren-1].children[1].textContent = output.data[JS_MIME_TYPE];\n    }\n    output_area._hv_plot_id = id;\n    if ((window.Bokeh !== undefined) && (id in Bokeh.index)) {\n      window.PyViz.plot_index[id] = Bokeh.index[id];\n    } else {\n      window.PyViz.plot_index[id] = null;\n    }\n  } else if (output.metadata[EXEC_MIME_TYPE][\"server_id\"] !== undefined) {\n    var bk_div = document.createElement(\"div\");\n    bk_div.innerHTML = output.data[HTML_MIME_TYPE];\n    var script_attrs = bk_div.children[0].attributes;\n    for (var i = 0; i < script_attrs.length; i++) {\n      toinsert[toinsert.length - 1].childNodes[1].setAttribute(script_attrs[i].name, script_attrs[i].value);\n    }\n    // store reference to server id on output_area\n    output_area._bokeh_server_id = output.metadata[EXEC_MIME_TYPE][\"server_id\"];\n  }\n}\n\n/**\n * Handle when an output is cleared or removed\n */\nfunction handle_clear_output(event, handle) {\n  var id = handle.cell.output_area._hv_plot_id;\n  var server_id = handle.cell.output_area._bokeh_server_id;\n  if (((id === undefined) || !(id in PyViz.plot_index)) && (server_id !== undefined)) { return; }\n  var comm = window.PyViz.comm_manager.get_client_comm(\"hv-extension-comm\", \"hv-extension-comm\", function () {});\n  if (server_id !== null) {\n    comm.send({event_type: 'server_delete', 'id': server_id});\n    return;\n  } else if (comm !== null) {\n    comm.send({event_type: 'delete', 'id': id});\n  }\n  delete PyViz.plot_index[id];\n  if ((window.Bokeh !== undefined) & (id in window.Bokeh.index)) {\n    var doc = window.Bokeh.index[id].model.document\n    doc.clear();\n    const i = window.Bokeh.documents.indexOf(doc);\n    if (i > -1) {\n      window.Bokeh.documents.splice(i, 1);\n    }\n  }\n}\n\n/**\n * Handle kernel restart event\n */\nfunction handle_kernel_cleanup(event, handle) {\n  delete PyViz.comms[\"hv-extension-comm\"];\n  window.PyViz.plot_index = {}\n}\n\n/**\n * Handle update_display_data messages\n */\nfunction handle_update_output(event, handle) {\n  handle_clear_output(event, {cell: {output_area: handle.output_area}})\n  handle_add_output(event, handle)\n}\n\nfunction register_renderer(events, OutputArea) {\n  function append_mime(data, metadata, element) {\n    // create a DOM node to render to\n    var toinsert = this.create_output_subarea(\n    metadata,\n    CLASS_NAME,\n    EXEC_MIME_TYPE\n    );\n    this.keyboard_manager.register_events(toinsert);\n    // Render to node\n    var props = {data: data, metadata: metadata[EXEC_MIME_TYPE]};\n    render(props, toinsert[0]);\n    element.append(toinsert);\n    return toinsert\n  }\n\n  events.on('output_added.OutputArea', handle_add_output);\n  events.on('output_updated.OutputArea', handle_update_output);\n  events.on('clear_output.CodeCell', handle_clear_output);\n  events.on('delete.Cell', handle_clear_output);\n  events.on('kernel_ready.Kernel', handle_kernel_cleanup);\n\n  OutputArea.prototype.register_mime_type(EXEC_MIME_TYPE, append_mime, {\n    safe: true,\n    index: 0\n  });\n}\n\nif (window.Jupyter !== undefined) {\n  try {\n    var events = require('base/js/events');\n    var OutputArea = require('notebook/js/outputarea').OutputArea;\n    if (OutputArea.prototype.mime_types().indexOf(EXEC_MIME_TYPE) == -1) {\n      register_renderer(events, OutputArea);\n    }\n  } catch(err) {\n  }\n}\n",
      "application/vnd.holoviews_load.v0+json": ""
     },
     "metadata": {},
     "output_type": "display_data"
    },
    {
     "data": {
      "application/vnd.holoviews_exec.v0+json": "",
      "text/html": [
       "<div id='b26018c7-aff1-449a-949d-e6ae94c7cb90'>\n",
       "  <div id=\"cb0e6830-2719-4e80-beac-4fa75210e5ef\" data-root-id=\"b26018c7-aff1-449a-949d-e6ae94c7cb90\" style=\"display: contents;\"></div>\n",
       "</div>\n",
       "<script type=\"application/javascript\">(function(root) {\n",
       "  var docs_json = {\"5232e28c-63b2-4cd2-98c4-97771401b927\":{\"version\":\"3.6.0\",\"title\":\"Bokeh Application\",\"roots\":[{\"type\":\"object\",\"name\":\"panel.models.browser.BrowserInfo\",\"id\":\"b26018c7-aff1-449a-949d-e6ae94c7cb90\"},{\"type\":\"object\",\"name\":\"panel.models.comm_manager.CommManager\",\"id\":\"acb97f45-3e63-4e3d-a1a5-365097419de4\",\"attributes\":{\"plot_id\":\"b26018c7-aff1-449a-949d-e6ae94c7cb90\",\"comm_id\":\"41e8b532b2514844843e10d2e276dd13\",\"client_comm_id\":\"a8a301fded1e42989aa57fd6b9347f82\"}}],\"defs\":[{\"type\":\"model\",\"name\":\"ReactiveHTML1\"},{\"type\":\"model\",\"name\":\"FlexBox1\",\"properties\":[{\"name\":\"align_content\",\"kind\":\"Any\",\"default\":\"flex-start\"},{\"name\":\"align_items\",\"kind\":\"Any\",\"default\":\"flex-start\"},{\"name\":\"flex_direction\",\"kind\":\"Any\",\"default\":\"row\"},{\"name\":\"flex_wrap\",\"kind\":\"Any\",\"default\":\"wrap\"},{\"name\":\"gap\",\"kind\":\"Any\",\"default\":\"\"},{\"name\":\"justify_content\",\"kind\":\"Any\",\"default\":\"flex-start\"}]},{\"type\":\"model\",\"name\":\"FloatPanel1\",\"properties\":[{\"name\":\"config\",\"kind\":\"Any\",\"default\":{\"type\":\"map\"}},{\"name\":\"contained\",\"kind\":\"Any\",\"default\":true},{\"name\":\"position\",\"kind\":\"Any\",\"default\":\"right-top\"},{\"name\":\"offsetx\",\"kind\":\"Any\",\"default\":null},{\"name\":\"offsety\",\"kind\":\"Any\",\"default\":null},{\"name\":\"theme\",\"kind\":\"Any\",\"default\":\"primary\"},{\"name\":\"status\",\"kind\":\"Any\",\"default\":\"normalized\"}]},{\"type\":\"model\",\"name\":\"GridStack1\",\"properties\":[{\"name\":\"mode\",\"kind\":\"Any\",\"default\":\"warn\"},{\"name\":\"ncols\",\"kind\":\"Any\",\"default\":null},{\"name\":\"nrows\",\"kind\":\"Any\",\"default\":null},{\"name\":\"allow_resize\",\"kind\":\"Any\",\"default\":true},{\"name\":\"allow_drag\",\"kind\":\"Any\",\"default\":true},{\"name\":\"state\",\"kind\":\"Any\",\"default\":[]}]},{\"type\":\"model\",\"name\":\"drag1\",\"properties\":[{\"name\":\"slider_width\",\"kind\":\"Any\",\"default\":5},{\"name\":\"slider_color\",\"kind\":\"Any\",\"default\":\"black\"},{\"name\":\"value\",\"kind\":\"Any\",\"default\":50}]},{\"type\":\"model\",\"name\":\"click1\",\"properties\":[{\"name\":\"terminal_output\",\"kind\":\"Any\",\"default\":\"\"},{\"name\":\"debug_name\",\"kind\":\"Any\",\"default\":\"\"},{\"name\":\"clears\",\"kind\":\"Any\",\"default\":0}]},{\"type\":\"model\",\"name\":\"FastWrapper1\",\"properties\":[{\"name\":\"object\",\"kind\":\"Any\",\"default\":null},{\"name\":\"style\",\"kind\":\"Any\",\"default\":null}]},{\"type\":\"model\",\"name\":\"NotificationAreaBase1\",\"properties\":[{\"name\":\"js_events\",\"kind\":\"Any\",\"default\":{\"type\":\"map\"}},{\"name\":\"position\",\"kind\":\"Any\",\"default\":\"bottom-right\"},{\"name\":\"_clear\",\"kind\":\"Any\",\"default\":0}]},{\"type\":\"model\",\"name\":\"NotificationArea1\",\"properties\":[{\"name\":\"js_events\",\"kind\":\"Any\",\"default\":{\"type\":\"map\"}},{\"name\":\"notifications\",\"kind\":\"Any\",\"default\":[]},{\"name\":\"position\",\"kind\":\"Any\",\"default\":\"bottom-right\"},{\"name\":\"_clear\",\"kind\":\"Any\",\"default\":0},{\"name\":\"types\",\"kind\":\"Any\",\"default\":[{\"type\":\"map\",\"entries\":[[\"type\",\"warning\"],[\"background\",\"#ffc107\"],[\"icon\",{\"type\":\"map\",\"entries\":[[\"className\",\"fas fa-exclamation-triangle\"],[\"tagName\",\"i\"],[\"color\",\"white\"]]}]]},{\"type\":\"map\",\"entries\":[[\"type\",\"info\"],[\"background\",\"#007bff\"],[\"icon\",{\"type\":\"map\",\"entries\":[[\"className\",\"fas fa-info-circle\"],[\"tagName\",\"i\"],[\"color\",\"white\"]]}]]}]}]},{\"type\":\"model\",\"name\":\"Notification\",\"properties\":[{\"name\":\"background\",\"kind\":\"Any\",\"default\":null},{\"name\":\"duration\",\"kind\":\"Any\",\"default\":3000},{\"name\":\"icon\",\"kind\":\"Any\",\"default\":null},{\"name\":\"message\",\"kind\":\"Any\",\"default\":\"\"},{\"name\":\"notification_type\",\"kind\":\"Any\",\"default\":null},{\"name\":\"_destroyed\",\"kind\":\"Any\",\"default\":false}]},{\"type\":\"model\",\"name\":\"TemplateActions1\",\"properties\":[{\"name\":\"open_modal\",\"kind\":\"Any\",\"default\":0},{\"name\":\"close_modal\",\"kind\":\"Any\",\"default\":0}]},{\"type\":\"model\",\"name\":\"BootstrapTemplateActions1\",\"properties\":[{\"name\":\"open_modal\",\"kind\":\"Any\",\"default\":0},{\"name\":\"close_modal\",\"kind\":\"Any\",\"default\":0}]},{\"type\":\"model\",\"name\":\"TemplateEditor1\",\"properties\":[{\"name\":\"layout\",\"kind\":\"Any\",\"default\":[]}]},{\"type\":\"model\",\"name\":\"MaterialTemplateActions1\",\"properties\":[{\"name\":\"open_modal\",\"kind\":\"Any\",\"default\":0},{\"name\":\"close_modal\",\"kind\":\"Any\",\"default\":0}]},{\"type\":\"model\",\"name\":\"ReactiveESM1\"},{\"type\":\"model\",\"name\":\"JSComponent1\"},{\"type\":\"model\",\"name\":\"ReactComponent1\"},{\"type\":\"model\",\"name\":\"AnyWidgetComponent1\"},{\"type\":\"model\",\"name\":\"request_value1\",\"properties\":[{\"name\":\"fill\",\"kind\":\"Any\",\"default\":\"none\"},{\"name\":\"_synced\",\"kind\":\"Any\",\"default\":null},{\"name\":\"_request_sync\",\"kind\":\"Any\",\"default\":0}]}]}};\n",
       "  var render_items = [{\"docid\":\"5232e28c-63b2-4cd2-98c4-97771401b927\",\"roots\":{\"b26018c7-aff1-449a-949d-e6ae94c7cb90\":\"cb0e6830-2719-4e80-beac-4fa75210e5ef\"},\"root_ids\":[\"b26018c7-aff1-449a-949d-e6ae94c7cb90\"]}];\n",
       "  var docs = Object.values(docs_json)\n",
       "  if (!docs) {\n",
       "    return\n",
       "  }\n",
       "  const py_version = docs[0].version.replace('rc', '-rc.').replace('.dev', '-dev.')\n",
       "  async function embed_document(root) {\n",
       "    var Bokeh = get_bokeh(root)\n",
       "    await Bokeh.embed.embed_items_notebook(docs_json, render_items);\n",
       "    for (const render_item of render_items) {\n",
       "      for (const root_id of render_item.root_ids) {\n",
       "\tconst id_el = document.getElementById(root_id)\n",
       "\tif (id_el.children.length && id_el.children[0].hasAttribute('data-root-id')) {\n",
       "\t  const root_el = id_el.children[0]\n",
       "\t  root_el.id = root_el.id + '-rendered'\n",
       "\t  for (const child of root_el.children) {\n",
       "            // Ensure JupyterLab does not capture keyboard shortcuts\n",
       "            // see: https://jupyterlab.readthedocs.io/en/4.1.x/extension/notebook.html#keyboard-interaction-model\n",
       "\t    child.setAttribute('data-lm-suppress-shortcuts', 'true')\n",
       "\t  }\n",
       "\t}\n",
       "      }\n",
       "    }\n",
       "  }\n",
       "  function get_bokeh(root) {\n",
       "    if (root.Bokeh === undefined) {\n",
       "      return null\n",
       "    } else if (root.Bokeh.version !== py_version) {\n",
       "      if (root.Bokeh.versions === undefined || !root.Bokeh.versions.has(py_version)) {\n",
       "\treturn null\n",
       "      }\n",
       "      return root.Bokeh.versions.get(py_version);\n",
       "    } else if (root.Bokeh.version === py_version) {\n",
       "      return root.Bokeh\n",
       "    }\n",
       "    return null\n",
       "  }\n",
       "  function is_loaded(root) {\n",
       "    var Bokeh = get_bokeh(root)\n",
       "    return (Bokeh != null && Bokeh.Panel !== undefined)\n",
       "  }\n",
       "  if (is_loaded(root)) {\n",
       "    embed_document(root);\n",
       "  } else {\n",
       "    var attempts = 0;\n",
       "    var timer = setInterval(function(root) {\n",
       "      if (is_loaded(root)) {\n",
       "        clearInterval(timer);\n",
       "        embed_document(root);\n",
       "      } else if (document.readyState == \"complete\") {\n",
       "        attempts++;\n",
       "        if (attempts > 200) {\n",
       "          clearInterval(timer);\n",
       "\t  var Bokeh = get_bokeh(root)\n",
       "\t  if (Bokeh == null || Bokeh.Panel == null) {\n",
       "            console.warn(\"Panel: ERROR: Unable to run Panel code because Bokeh or Panel library is missing\");\n",
       "\t  } else {\n",
       "\t    console.warn(\"Panel: WARNING: Attempting to render but not all required libraries could be resolved.\")\n",
       "\t    embed_document(root)\n",
       "\t  }\n",
       "        }\n",
       "      }\n",
       "    }, 25, root)\n",
       "  }\n",
       "})(window);</script>"
      ]
     },
     "metadata": {
      "application/vnd.holoviews_exec.v0+json": {
       "id": "b26018c7-aff1-449a-949d-e6ae94c7cb90"
      }
     },
     "output_type": "display_data"
    }
   ],
   "source": [
    "# Dependencies and Setup\n",
    "import hvplot.pandas\n",
    "import pandas as pd\n",
    "import requests\n",
    "\n",
    "# Import API key\n",
    "from api_keys import geoapify_key\n"
   ]
  },
  {
   "cell_type": "code",
   "execution_count": 2,
   "metadata": {},
   "outputs": [
    {
     "data": {
      "text/html": [
       "<div>\n",
       "<style scoped>\n",
       "    .dataframe tbody tr th:only-of-type {\n",
       "        vertical-align: middle;\n",
       "    }\n",
       "\n",
       "    .dataframe tbody tr th {\n",
       "        vertical-align: top;\n",
       "    }\n",
       "\n",
       "    .dataframe thead th {\n",
       "        text-align: right;\n",
       "    }\n",
       "</style>\n",
       "<table border=\"1\" class=\"dataframe\">\n",
       "  <thead>\n",
       "    <tr style=\"text-align: right;\">\n",
       "      <th></th>\n",
       "      <th>City_ID</th>\n",
       "      <th>City</th>\n",
       "      <th>Lat</th>\n",
       "      <th>Lng</th>\n",
       "      <th>Max Temp</th>\n",
       "      <th>Humidity</th>\n",
       "      <th>Cloudiness</th>\n",
       "      <th>Wind Speed</th>\n",
       "      <th>Country</th>\n",
       "      <th>Date</th>\n",
       "    </tr>\n",
       "  </thead>\n",
       "  <tbody>\n",
       "    <tr>\n",
       "      <th>0</th>\n",
       "      <td>0</td>\n",
       "      <td>westport</td>\n",
       "      <td>41.1415</td>\n",
       "      <td>-73.3579</td>\n",
       "      <td>11.82</td>\n",
       "      <td>94</td>\n",
       "      <td>100</td>\n",
       "      <td>4.63</td>\n",
       "      <td>US</td>\n",
       "      <td>1746853758</td>\n",
       "    </tr>\n",
       "    <tr>\n",
       "      <th>1</th>\n",
       "      <td>1</td>\n",
       "      <td>thompson</td>\n",
       "      <td>55.7435</td>\n",
       "      <td>-97.8558</td>\n",
       "      <td>3.90</td>\n",
       "      <td>58</td>\n",
       "      <td>1</td>\n",
       "      <td>2.75</td>\n",
       "      <td>CA</td>\n",
       "      <td>1746853759</td>\n",
       "    </tr>\n",
       "    <tr>\n",
       "      <th>2</th>\n",
       "      <td>2</td>\n",
       "      <td>port mathurin</td>\n",
       "      <td>-19.6833</td>\n",
       "      <td>63.4167</td>\n",
       "      <td>26.52</td>\n",
       "      <td>80</td>\n",
       "      <td>27</td>\n",
       "      <td>9.17</td>\n",
       "      <td>MU</td>\n",
       "      <td>1746853761</td>\n",
       "    </tr>\n",
       "    <tr>\n",
       "      <th>3</th>\n",
       "      <td>3</td>\n",
       "      <td>waitangi</td>\n",
       "      <td>-43.9535</td>\n",
       "      <td>-176.5597</td>\n",
       "      <td>12.75</td>\n",
       "      <td>70</td>\n",
       "      <td>73</td>\n",
       "      <td>7.65</td>\n",
       "      <td>NZ</td>\n",
       "      <td>1746853762</td>\n",
       "    </tr>\n",
       "    <tr>\n",
       "      <th>4</th>\n",
       "      <td>4</td>\n",
       "      <td>manokwari</td>\n",
       "      <td>-0.8667</td>\n",
       "      <td>134.0833</td>\n",
       "      <td>28.43</td>\n",
       "      <td>71</td>\n",
       "      <td>72</td>\n",
       "      <td>2.02</td>\n",
       "      <td>ID</td>\n",
       "      <td>1746853763</td>\n",
       "    </tr>\n",
       "  </tbody>\n",
       "</table>\n",
       "</div>"
      ],
      "text/plain": [
       "   City_ID           City      Lat       Lng  Max Temp  Humidity  Cloudiness  \\\n",
       "0        0       westport  41.1415  -73.3579     11.82        94         100   \n",
       "1        1       thompson  55.7435  -97.8558      3.90        58           1   \n",
       "2        2  port mathurin -19.6833   63.4167     26.52        80          27   \n",
       "3        3       waitangi -43.9535 -176.5597     12.75        70          73   \n",
       "4        4      manokwari  -0.8667  134.0833     28.43        71          72   \n",
       "\n",
       "   Wind Speed Country        Date  \n",
       "0        4.63      US  1746853758  \n",
       "1        2.75      CA  1746853759  \n",
       "2        9.17      MU  1746853761  \n",
       "3        7.65      NZ  1746853762  \n",
       "4        2.02      ID  1746853763  "
      ]
     },
     "execution_count": 2,
     "metadata": {},
     "output_type": "execute_result"
    }
   ],
   "source": [
    "# Load the CSV file created in Part 1 into a Pandas DataFrame\n",
    "city_data_df = pd.read_csv(\"output_data/cities.csv\")\n",
    "\n",
    "# Display sample data\n",
    "city_data_df.head()"
   ]
  },
  {
   "cell_type": "markdown",
   "metadata": {},
   "source": [
    "---\n",
    "\n",
    "### Step 1: Create a map that displays a point for every city in the `city_data_df` DataFrame. The size of the point should be the humidity in each city."
   ]
  },
  {
   "cell_type": "code",
   "execution_count": 3,
   "metadata": {},
   "outputs": [
    {
     "data": {
      "application/vnd.plotly.v1+json": {
       "config": {
        "plotlyServerURL": "https://plot.ly"
       },
       "data": [
        {
         "geo": "geo",
         "hovertemplate": "<b>%{hovertext}</b><br><br>Humidity=%{marker.color}<br>Lat=%{lat}<br>Lng=%{lon}<extra></extra>",
         "hovertext": [
          "westport",
          "thompson",
          "port mathurin",
          "waitangi",
          "manokwari",
          "al manshah",
          "saint-philippe",
          "lucea",
          "blackmans bay",
          "bilibino",
          "mahina",
          "alice springs",
          "port-aux-francais",
          "puerto natales",
          "petropavlovsk-kamchatsky",
          "vila velha",
          "atafu village",
          "badger",
          "kapuskasing",
          "punta arenas",
          "cabedelo",
          "esperanza",
          "port elizabeth",
          "san patricio",
          "lionel town",
          "voru",
          "georgetown",
          "lobujya",
          "uruacu",
          "albany",
          "port alfred",
          "praia da vitoria",
          "ribeira grande",
          "lihue",
          "yellowknife",
          "stanley",
          "iqaluit",
          "aykhal",
          "bairnsdale",
          "invercargill",
          "mount pearl",
          "grytviken",
          "ketchikan",
          "adamstown",
          "queenstown",
          "puerto ayora",
          "areia branca",
          "keflavik",
          "inhambane",
          "haiku-pauwela",
          "prado",
          "bethel",
          "edinburgh of the seven seas",
          "wailua homesteads",
          "nar'yan-mar",
          "tabou",
          "west island",
          "longyearbyen",
          "ilulissat",
          "kiunga",
          "forbes",
          "al muwayh",
          "hola",
          "utrik",
          "dhidhdhoo",
          "el oued",
          "montelibano",
          "caleta de carquin",
          "muscat",
          "fortuna",
          "codrington",
          "isafjordur",
          "north bend",
          "dudinka",
          "ceeldheer",
          "cannonvale",
          "margaret river",
          "ta`u",
          "atherton",
          "lompoc",
          "ulladulla",
          "oltu",
          "talnakh",
          "college",
          "mangai",
          "qaqortoq",
          "kirensk",
          "kone",
          "alofi",
          "natal",
          "okanagan",
          "nogliki",
          "iskateley",
          "bredasdorp",
          "susuman",
          "sirte",
          "san rafael del yuma",
          "nova sintra",
          "lata",
          "sitka",
          "ushuaia",
          "griffith",
          "saskatoon",
          "vilyuchinsk",
          "viqueque",
          "anadyr",
          "zhanaozen",
          "lamu",
          "murygino",
          "yorkton",
          "kaifeng",
          "lebanon",
          "kodiak",
          "las tablas",
          "freetown",
          "whitehorse",
          "klyuchi",
          "yaren",
          "hazard",
          "santa cruz",
          "saint marys",
          "neelankarai",
          "harper",
          "eirunepe",
          "laguna",
          "kavaratti",
          "remire-montjoly",
          "shiyan",
          "papatowai",
          "maun",
          "vodnyy",
          "page",
          "buurhakaba",
          "andong",
          "olonkinbyen",
          "rongelap",
          "nouadhibou",
          "karratha",
          "udachny",
          "brigantine",
          "tezu",
          "vilyuysk",
          "pangai",
          "richards bay",
          "parabel'",
          "monroeville",
          "polyarnyy",
          "altai",
          "inarajan village",
          "lebu",
          "rio grande",
          "along",
          "manggar",
          "taoudenni",
          "okhotsk",
          "saint-pierre",
          "christchurch",
          "hilo",
          "chartres",
          "zhangye",
          "leninskoye",
          "gadzhiyevo",
          "arkalyk",
          "pasighat",
          "badiyah",
          "la sarre",
          "al qusiyah",
          "trincomalee",
          "lesosibirsk",
          "guerrero negro",
          "chalus",
          "hermanus",
          "benito juarez",
          "parsons",
          "hovd",
          "berezovyy",
          "meadow lake",
          "avarua",
          "tiksi",
          "indi",
          "homer",
          "coquimbo",
          "constantia",
          "ocean shores",
          "poronaysk",
          "letterkenny",
          "bondo",
          "progreso",
          "vila franca do campo",
          "presque isle",
          "rauna",
          "dampit",
          "thief river falls",
          "tadine",
          "waldheim",
          "bargaal",
          "changping",
          "umm kaddadah",
          "dwarka",
          "port nelson",
          "hawaiian paradise park",
          "jamestown",
          "lazaro cardenas",
          "manakara",
          "touros",
          "gorontalo",
          "san antonio de pale",
          "shizunai-furukawacho",
          "armacao de buzios",
          "luanshya",
          "bubaque",
          "inari",
          "geraldton",
          "kittila",
          "ola",
          "pizarro",
          "weno",
          "karapinar",
          "uturoa",
          "chibougamau",
          "nizhnedevitsk",
          "paraiso",
          "dunedin",
          "heniches'k",
          "ixtapa",
          "feicheng",
          "fort st. john",
          "gulf shores",
          "nong khai",
          "fort bragg",
          "meulaboh",
          "challapata",
          "mount isa",
          "eger",
          "puerto aysen",
          "tarakan",
          "talara",
          "anloga",
          "cidreira",
          "vadso",
          "santiago del torno",
          "sambava",
          "northam",
          "mersa matruh",
          "kolonia town",
          "hithadhoo",
          "thanh hoa",
          "mana",
          "bergen",
          "nantucket",
          "imperatriz",
          "sankt georgen im schwarzwald",
          "ghat",
          "brookings",
          "hasaki",
          "zuunmod",
          "sandnessjoen",
          "alta",
          "kourou",
          "grand-lahou",
          "severo-yeniseyskiy",
          "tulun",
          "maputo",
          "bengkulu",
          "kenai",
          "raja",
          "el porvenir",
          "mar del plata",
          "mili",
          "tralee",
          "enewetak",
          "hadibu",
          "coron",
          "swift current",
          "marquette",
          "cabo san lucas",
          "klaeng",
          "auki",
          "tazacorte",
          "yuzhno-kurilsk",
          "rasht",
          "beykonak",
          "acarau",
          "florence",
          "tvoroyri",
          "bamboo flat",
          "chonchi",
          "kirovo-chepetsk",
          "jinchang",
          "al faw",
          "ilebo",
          "bereeda",
          "humaita",
          "domat",
          "shingu",
          "dryden",
          "port lincoln",
          "namsos",
          "chilecito",
          "balikpapan",
          "ciudad lazaro cardenas",
          "kerben",
          "mutoko",
          "kidal",
          "zhezqazghan",
          "boguchar",
          "newman",
          "lakatoro",
          "itamaraca",
          "ouadda",
          "ouani",
          "aldinga beach",
          "staraya russa",
          "puerto madryn",
          "holualoa",
          "tazovsky",
          "twon-brass",
          "gaiman",
          "springs",
          "saint helier",
          "necochea",
          "sao paulo de olivenca",
          "yibin",
          "bonham",
          "nova vicosa",
          "cockburn town",
          "salur",
          "chadron",
          "namibe",
          "mizdah",
          "udomlya",
          "tofol",
          "kayangel",
          "sinop",
          "yamada",
          "xingtai",
          "port augusta",
          "kyosai",
          "haapsalu",
          "port antonio",
          "liaozhong",
          "masterton",
          "tura",
          "mehtar lam",
          "teknaf",
          "hunt valley",
          "horta",
          "hindupur",
          "jiuquan",
          "berdigestyakh",
          "sao vicente",
          "nizao",
          "port douglas",
          "mananjary",
          "dul'durga",
          "adrar",
          "argo",
          "virginia",
          "hobyo",
          "hafar al-batin",
          "kouango",
          "tucuma",
          "agat village",
          "villa gesell",
          "lyubokhna",
          "xiuyan",
          "vorgashor",
          "satoraljaujhely",
          "figuig (centre)",
          "pinckneyville",
          "aasiaat",
          "luderitz",
          "kamina",
          "ambon",
          "ain sefra",
          "ascension",
          "lima",
          "puerto deseado",
          "baiti",
          "hamilton",
          "glogowek",
          "ancud",
          "luau",
          "kill devil hills",
          "ust-nera",
          "shahr-e kord",
          "mitu",
          "palestina",
          "ponta delgada",
          "fale old settlement",
          "sept-iles",
          "muri",
          "xinqing",
          "awjilah",
          "terme",
          "boa vista",
          "mawu",
          "kapit",
          "haverfordwest",
          "puerto leguizamo",
          "turkmenbasy",
          "kapa'a",
          "nguigmi",
          "port saint john's",
          "bhindar",
          "tocopilla",
          "slany",
          "howrah",
          "luwingu",
          "minas de marcona",
          "nemuro",
          "paicandu",
          "naliya",
          "zhangjiakou",
          "kudahuvadhoo",
          "rawai",
          "alaghsas",
          "zouerate",
          "smithers",
          "vorkuta",
          "cadale",
          "motueka",
          "kendari",
          "afaahiti",
          "callao",
          "tolanaro",
          "salinopolis",
          "woodland",
          "wanning",
          "zaltan",
          "albina",
          "la passe",
          "kigoma",
          "miles city",
          "mishelevka",
          "nadym",
          "agapovka",
          "posto fiscal rolim de moura",
          "karwar",
          "emerald",
          "cottage grove",
          "tara",
          "al kharj",
          "namdrik",
          "zeya",
          "broken hill",
          "kerikeri",
          "maicao",
          "nur-sultan",
          "aitape",
          "fisterra",
          "asikkala",
          "phrai bueng",
          "upington",
          "saldanha",
          "sao joao da barra",
          "kamaishi",
          "major isidoro",
          "muli",
          "tual",
          "tarawa",
          "anna regina",
          "margate",
          "kununurra",
          "ampanihy",
          "magadan",
          "n'zeto",
          "yeniseysk",
          "nema",
          "east london",
          "gargalianoi",
          "san julian",
          "gizo",
          "martinsburg",
          "macapa",
          "crane",
          "puerto san jose",
          "adh dhibiyah",
          "hard bargain",
          "laojunmiao",
          "halifax",
          "cherniakhiv",
          "st. john's",
          "tanggu",
          "colonia",
          "funafuti",
          "hendrina",
          "palmer",
          "usinsk",
          "kpandae",
          "cova figueira",
          "spanish springs",
          "bozhou",
          "rajsamand",
          "borazjan",
          "huangmei",
          "chipata",
          "jabat",
          "topolobampo",
          "san rafael",
          "pacific grove",
          "okha",
          "santa terezinha",
          "kavkazskaya",
          "galle",
          "belmonte",
          "vallenar",
          "uzgen",
          "la'ie",
          "chinde",
          "itoman",
          "gejiu",
          "selfoss",
          "tromso",
          "san martin",
          "peace river",
          "ikovka",
          "revda",
          "gharaunda",
          "flying fish cove",
          "kovel",
          "jennings",
          "sisimiut",
          "sinabang",
          "peniche",
          "kalmunai",
          "quellon",
          "swan hill",
          "xining",
          "villa emilio carranza",
          "kangding",
          "labasa",
          "palikir - national government center",
          "deltebre",
          "lorengau",
          "tindouf",
          "sweet home",
          "markovo",
          "pukchil-lodongjagu",
          "constitucion",
          "kovernino",
          "vepagunta",
          "saint-joseph",
          "thunder bay",
          "leh",
          "nabire",
          "taranto",
          "fort mcmurray",
          "west hattiesburg",
          "lethem",
          "taro",
          "puerto baquerizo moreno",
          "rio preto da eva",
          "lishui",
          "port-vila",
          "lepsy",
          "parun",
          "surat thani",
          "camiri",
          "prairie view",
          "tamanrasset",
          "sur",
          "trairi",
          "mogi mirim",
          "panama city beach",
          "hirara",
          "coahuayana de hidalgo",
          "portland",
          "izhevsk",
          "ngereklmadel",
          "ar rutbah",
          "tsiombe",
          "qamdo",
          "nyurba",
          "rice lake",
          "williamson",
          "faya-largeau",
          "zhangzhou",
          "chernyshevskiy",
          "puerto armuelles",
          "grande prairie",
          "rundu",
          "farim",
          "mega",
          "roma",
          "saipan",
          "loncoche",
          "pa daet",
          "sudak",
          "klaksvik",
          "qui nhon"
         ],
         "lat": [
          41.1415,
          55.7435,
          -19.6833,
          -43.9535,
          -0.8667,
          26.4769,
          -21.3585,
          18.451,
          -43.0167,
          68.0546,
          -17.5065,
          -23.7,
          -49.35,
          -51.7236,
          53.0452,
          -20.3297,
          -8.5421,
          64.8,
          49.4169,
          -53.15,
          -6.9811,
          19.5847,
          -33.918,
          28.017,
          17.8101,
          57.8339,
          5.4112,
          27.95,
          -14.5247,
          42.6001,
          -33.5906,
          38.7333,
          38.5167,
          21.9789,
          62.456,
          54.868,
          63.7506,
          66,
          -37.8333,
          -46.4,
          47.5166,
          -54.2811,
          55.3422,
          -25.066,
          -31.8976,
          -0.7393,
          -4.9561,
          64.0049,
          -23.865,
          20.9219,
          -17.3411,
          41.3712,
          -37.0676,
          22.0669,
          67.6713,
          4.423,
          -12.1568,
          78.2186,
          69.2167,
          -6.1219,
          -33.3833,
          22.4333,
          51.5377,
          11.2278,
          6.8833,
          33.3561,
          7.9829,
          -11.0925,
          23.6139,
          40.5982,
          -38.2667,
          66.0755,
          43.4065,
          69.4058,
          3.8488,
          -20.2833,
          -33.95,
          -14.2336,
          53.5237,
          34.6391,
          -35.35,
          40.5498,
          69.4865,
          64.8569,
          -4.05,
          60.7167,
          57.7853,
          -21.0595,
          -19.0595,
          -5.795,
          50.3639,
          51.8333,
          67.6803,
          -34.5322,
          62.7833,
          31.2089,
          18.4299,
          14.8667,
          40.1629,
          57.0531,
          -54.8,
          41.5284,
          52.1168,
          52.9306,
          -8.8673,
          64.75,
          43.3,
          -2.2717,
          58.7383,
          51.2167,
          34.7911,
          36.2081,
          57.79,
          7.7667,
          8.484,
          60.7161,
          52.2667,
          -0.5472,
          37.2495,
          -17.8,
          30.7305,
          12.9455,
          4.375,
          -6.6603,
          38.421,
          10.5669,
          4.9167,
          32.6475,
          -46.5619,
          -19.9833,
          63.5046,
          36.9147,
          2.8026,
          36.5656,
          70.9221,
          11.1635,
          20.931,
          -20.7377,
          66.4167,
          39.4101,
          27.9167,
          63.7553,
          -19.8,
          -28.783,
          58.6978,
          40.4212,
          69.1989,
          46.3722,
          13.2736,
          -37.6167,
          -32.035,
          28.1667,
          -2.8833,
          22.6783,
          59.3833,
          -21.3393,
          -43.5333,
          19.7297,
          48.4167,
          38.9342,
          41.7589,
          69.2551,
          50.2486,
          28.0667,
          22.45,
          48.8002,
          27.4402,
          8.5711,
          58.2358,
          27.9769,
          36.655,
          -34.4187,
          19.385,
          37.3403,
          48.0056,
          51.6667,
          34.8014,
          -21.2078,
          71.6872,
          17.1667,
          59.6425,
          -29.9533,
          44.1833,
          46.9737,
          49.2167,
          54.95,
          3.8146,
          21.2833,
          37.7167,
          46.6811,
          57.3322,
          -8.2116,
          48.1191,
          -21.55,
          51.0667,
          11.2864,
          40.2186,
          13.6017,
          22.2394,
          23.6333,
          19.5933,
          42.097,
          17.9583,
          -22.1333,
          -5.1989,
          0.5412,
          -1.4014,
          42.3339,
          -22.7469,
          -13.1367,
          11.2833,
          68.906,
          -28.7667,
          67.6647,
          59.5833,
          4.9533,
          7.4515,
          37.716,
          -16.7333,
          49.9168,
          51.5419,
          9.8383,
          -45.8742,
          46.1759,
          20.7,
          35.2606,
          56.2499,
          30.246,
          17.9167,
          35.139,
          4.1363,
          -18.9,
          -20.7333,
          47.9026,
          -45.4,
          3.3,
          -4.5772,
          5.7947,
          -30.1811,
          70.0744,
          -17.9833,
          -14.2667,
          51.0333,
          31.3525,
          6.964,
          -0.6,
          19.8,
          5.6592,
          60.392,
          41.2835,
          -5.5264,
          48.1333,
          24.9647,
          44.3114,
          35.7333,
          47.7069,
          66.0217,
          69.9689,
          5.1552,
          5.1367,
          60.3725,
          54.5611,
          -25.9653,
          -3.8004,
          60.5544,
          8.4596,
          13.7617,
          -38.0023,
          6.0815,
          52.2704,
          11.3474,
          12.65,
          11.9986,
          50.2834,
          46.5333,
          22.8909,
          12.7797,
          -8.7676,
          28.629,
          44.0306,
          37.2808,
          36.3257,
          -2.8856,
          43.7667,
          61.5556,
          11.7,
          -42.6128,
          58.5539,
          38.4953,
          29.9776,
          -4.3167,
          11.8704,
          -7.5061,
          46.8348,
          33.7333,
          49.7833,
          -34.7333,
          64.4662,
          -29.1619,
          -1.2675,
          17.9583,
          40.2951,
          -17.397,
          18.4411,
          47.7833,
          49.9358,
          37.3138,
          -16.0999,
          -7.7478,
          8.0777,
          -12.1322,
          -35.2793,
          57.9944,
          -42.7692,
          19.6228,
          67.4667,
          4.3151,
          -43.2897,
          -26.25,
          49.188,
          -38.5473,
          -3.3783,
          28.7667,
          33.5773,
          -17.8919,
          21.4612,
          18.5333,
          42.8294,
          -15.1961,
          31.4451,
          57.8794,
          5.3248,
          8.0823,
          41.7711,
          39.4667,
          37.0631,
          -32.5,
          34.8503,
          58.9431,
          18.18,
          41.5061,
          -40.9597,
          25.5198,
          34.6714,
          20.8624,
          39.4998,
          38.5333,
          13.8289,
          39.7432,
          62.0989,
          -23.9631,
          18.25,
          -16.4833,
          -21.2167,
          50.6761,
          20.5022,
          37.6333,
          37.5481,
          5.3505,
          28.4328,
          4.9934,
          -0.1833,
          13.3886,
          -37.2639,
          53.5033,
          40.2928,
          67.5833,
          48.4,
          32.1089,
          38.0803,
          68.7098,
          -26.6481,
          -8.7386,
          -3.6954,
          32.75,
          30.2169,
          -12.0432,
          -47.7503,
          13.745,
          39.1834,
          50.3536,
          -41.8697,
          -10.7073,
          36.0307,
          64.5667,
          32.3256,
          1.1983,
          31.9216,
          37.7333,
          -9.3852,
          50.2001,
          23.3667,
          48.2333,
          29.1081,
          41.2092,
          2.8197,
          34.4307,
          2.0167,
          51.8017,
          -0.1934,
          40.0222,
          22.0752,
          14.2495,
          -31.6229,
          24.5,
          -22.092,
          50.2305,
          22.5892,
          -10.2621,
          -15.2119,
          43.3236,
          -23.4575,
          23.2667,
          40.81,
          2.6708,
          7.7797,
          17.0187,
          22.7187,
          54.7804,
          67.5,
          2.7603,
          -41.1333,
          -3.945,
          -17.75,
          -12.0667,
          -25.0319,
          -0.6136,
          38.6785,
          18.8003,
          32.947,
          5.5,
          45.5549,
          -4.8769,
          46.4083,
          52.8575,
          65.5333,
          53.2973,
          -13.0833,
          14.8,
          -23.5333,
          44.8277,
          56.8944,
          24.155,
          5.5994,
          53.75,
          -31.95,
          -35.2268,
          11.3832,
          51.1801,
          -3.1374,
          42.9049,
          61.2167,
          14.7483,
          -28.4478,
          -33.0117,
          -21.6403,
          39.2667,
          -9.5322,
          2.9167,
          -5.6667,
          1.419,
          7.2644,
          51.3813,
          -15.7667,
          -24.7,
          59.5667,
          -7.2312,
          58.4497,
          57.5067,
          -33.0153,
          37.0667,
          21.0167,
          -8.103,
          39.4562,
          0.0389,
          31.3974,
          13.9256,
          24.5014,
          26.3167,
          39.8333,
          44.6453,
          50.4565,
          47.5649,
          39.0211,
          50.9333,
          -8.5243,
          -26.1588,
          42.1584,
          65.9939,
          8.4689,
          14.8905,
          39.6491,
          33.8772,
          25.0667,
          29.2666,
          30.1924,
          -13.6333,
          7.75,
          25.6,
          -34.6177,
          36.6177,
          53.5739,
          -29.9002,
          45.445,
          6.0367,
          -15.8631,
          -28.5708,
          40.7699,
          21.6477,
          26.8212,
          26.1247,
          23.306,
          63.9331,
          69.6496,
          -33.081,
          56.2501,
          55.6089,
          56.801,
          29.5375,
          -10.4217,
          51.2153,
          38.7192,
          66.9395,
          2.4803,
          39.3558,
          7.4167,
          -43.1167,
          -35.3378,
          36.6167,
          19.9667,
          30.0513,
          -16.4167,
          6.9248,
          40.7499,
          -2.0226,
          27.6711,
          44.3976,
          57.3206,
          40.2019,
          -35.3333,
          57.1253,
          17.7784,
          -21.3667,
          48.4001,
          34.1667,
          -3.3667,
          40.6167,
          56.7268,
          31.3191,
          3.3803,
          -8.3862,
          -0.9,
          -2.6994,
          28.4604,
          -17.7338,
          46.235,
          35.4207,
          9.1667,
          -20.05,
          30.0933,
          22.785,
          22.5667,
          -3.2778,
          -22.4319,
          30.1766,
          24.8,
          18.7,
          45.5234,
          56.85,
          7.4883,
          33.0381,
          -25.3,
          31.1667,
          63.2842,
          45.5061,
          30.6502,
          17.9257,
          24.5133,
          63.0128,
          8.2833,
          55.1667,
          -17.9333,
          12.4839,
          4.05,
          43.2128,
          15.1355,
          -39.3667,
          19.5049,
          44.85,
          62.2266,
          13.7667
         ],
         "legendgroup": "",
         "lon": [
          -73.3579,
          -97.8558,
          63.4167,
          -176.5597,
          134.0833,
          31.8035,
          55.7679,
          -78.1736,
          147.3167,
          166.4372,
          -149.489,
          133.8833,
          70.2167,
          -72.4875,
          158.6483,
          -40.2925,
          -172.5159,
          -147.5333,
          -82.4331,
          -70.9167,
          -34.8339,
          -70.9849,
          25.5701,
          -97.5169,
          -77.2406,
          27.0194,
          100.3354,
          86.8167,
          -49.1408,
          -73.9662,
          26.891,
          -27.0667,
          -28.7,
          -159.3672,
          -114.3525,
          -1.6985,
          -68.5145,
          111.5,
          147.6167,
          168.35,
          -52.7813,
          -36.5092,
          -131.6461,
          -130.1015,
          26.8753,
          -90.3518,
          -37.1369,
          -22.5624,
          35.3833,
          -156.3051,
          -39.2208,
          -73.414,
          -12.3116,
          -159.378,
          53.087,
          -7.3528,
          96.8225,
          15.6401,
          -51.1,
          141.2906,
          148.0167,
          41.7583,
          23.1902,
          169.8474,
          73.1,
          6.8632,
          -75.4229,
          -77.6267,
          58.5922,
          -124.1573,
          141.9667,
          -23.124,
          -124.2243,
          86.1778,
          47.1806,
          148.7,
          115.0667,
          -169.5144,
          -2.4935,
          -120.4579,
          150.4667,
          42.0013,
          88.3972,
          -147.8028,
          19.5333,
          -46.0333,
          108.1119,
          164.8658,
          -169.9187,
          -35.2094,
          -119.35,
          143.1667,
          53.1512,
          20.0403,
          148.1667,
          16.5887,
          -68.6739,
          -24.7167,
          -8.3327,
          -135.33,
          -68.3,
          -87.4237,
          -106.6345,
          158.4028,
          126.3658,
          177.4833,
          52.8,
          40.902,
          49.4582,
          -102.4677,
          114.3483,
          -86.2911,
          -152.4072,
          -80.2833,
          -13.2299,
          -135.0538,
          79.1667,
          166.916,
          -83.1932,
          -63.1667,
          -81.5465,
          80.2575,
          -7.7169,
          -69.8736,
          -121.4238,
          72.642,
          -52.2667,
          110.7781,
          169.4708,
          23.4167,
          53.4095,
          -111.4558,
          44.0781,
          128.725,
          -8.7187,
          166.8941,
          -17.0347,
          116.8463,
          112.4,
          -74.3646,
          96.1667,
          121.6247,
          -174.35,
          32.0377,
          81.4825,
          -79.7881,
          33.4478,
          96.2583,
          144.7484,
          -73.65,
          -52.0986,
          94.7667,
          108.2667,
          -3.9836,
          143.3,
          55.4781,
          172.6333,
          -155.09,
          1.5,
          100.4517,
          69.3864,
          33.3362,
          66.9114,
          95.3333,
          58.8,
          -79.1996,
          30.8184,
          81.2335,
          92.4828,
          -114.0611,
          51.4204,
          19.2345,
          -99.165,
          -95.2611,
          91.6419,
          135.7,
          -106.5436,
          -159.775,
          128.8694,
          75.9667,
          -151.5483,
          -71.3436,
          28.65,
          -124.1563,
          143.1167,
          -7.7333,
          23.6866,
          -89.6667,
          -25.4333,
          -68.0159,
          25.6067,
          112.7493,
          -96.1812,
          167.8833,
          13.0167,
          51.0773,
          116.2197,
          26.6876,
          68.9678,
          -74.8333,
          -154.9731,
          -79.2353,
          -102.2,
          48.0167,
          -35.4608,
          123.0595,
          5.6325,
          142.3669,
          -41.8817,
          28.4166,
          -15.8333,
          27.0288,
          114.6,
          24.8936,
          151.2833,
          -77.366,
          151.8468,
          33.5506,
          -151.4333,
          -74.3659,
          38.3657,
          -83.8656,
          170.5036,
          34.8034,
          -105.2,
          117.9675,
          -120.8529,
          -87.7008,
          103.0833,
          -79.006,
          96.1285,
          -66.7667,
          139.5,
          20.3733,
          -72.7,
          117.6333,
          -81.2719,
          0.8973,
          -50.2056,
          29.7487,
          -63.3833,
          50.1667,
          -4.2167,
          27.2453,
          158.206,
          73.0833,
          105.7667,
          -53.7767,
          5.328,
          -70.0995,
          -47.4917,
          8.3333,
          10.1728,
          -96.7984,
          140.8333,
          106.9528,
          12.6316,
          23.2717,
          -52.6478,
          -5.0242,
          93.0408,
          100.5792,
          32.5892,
          102.2655,
          -151.2583,
          25.678,
          -87.3458,
          -57.5575,
          171.735,
          -9.7026,
          162.3373,
          54.0333,
          120.2043,
          -107.8014,
          -87.6335,
          -109.9124,
          101.6483,
          160.7034,
          -17.9293,
          145.8556,
          49.5832,
          30.303,
          -40.12,
          11.25,
          -6.8111,
          92.7167,
          -73.8092,
          50.0399,
          102.1739,
          48.4741,
          20.5833,
          51.0579,
          -63.0208,
          9.4508,
          135.9833,
          -92.7503,
          135.8667,
          11.4957,
          -67.4974,
          116.8289,
          -102.2,
          72.1863,
          32.2268,
          1.4078,
          67.7667,
          40.545,
          -121.0208,
          167.4164,
          -34.8256,
          22.4007,
          44.4258,
          138.4604,
          31.3608,
          -65.0385,
          -155.9522,
          78.7,
          6.2418,
          -65.4929,
          28.4,
          -2.1049,
          -58.7368,
          -68.8725,
          104.6238,
          -96.1783,
          -39.3719,
          -71.1419,
          83.2167,
          -102.9999,
          12.1522,
          12.9801,
          34.9925,
          163.0078,
          134.7173,
          34.8709,
          141.95,
          114.4942,
          137.7667,
          128.5886,
          23.5414,
          -76.4612,
          122.7242,
          175.6575,
          90.2201,
          70.2094,
          92.3058,
          -76.6411,
          -28.6333,
          77.4933,
          98.5174,
          126.6992,
          -46.3919,
          -70.2,
          145.4667,
          48.3333,
          113.5931,
          -10.0711,
          22.7333,
          -77.4467,
          48.5268,
          45.9708,
          19.9619,
          -50.05,
          144.6585,
          -56.973,
          34.3885,
          123.2744,
          63.95,
          21.6667,
          -1.2286,
          -89.382,
          -52.8699,
          15.1594,
          24.9906,
          128.1814,
          -0.5833,
          -90.9001,
          -77.0282,
          -65.8938,
          -14.7482,
          -84.5333,
          17.8641,
          -73.8203,
          22.2247,
          -75.676,
          143.2,
          50.8644,
          -70.1733,
          35.2033,
          -25.6667,
          -171.2468,
          -66.3821,
          85.8667,
          129.5,
          21.2869,
          36.9739,
          -60.6733,
          104.9176,
          112.9333,
          -4.9691,
          -74.7819,
          52.9552,
          -159.319,
          13.1092,
          29.5448,
          74.1833,
          -70.1979,
          14.0869,
          88.3103,
          29.9271,
          -75.1103,
          145.575,
          -52.0486,
          68.8333,
          114.8794,
          72.8944,
          98.3253,
          8.0168,
          -12.4521,
          -127.1743,
          64,
          46.3222,
          173.0167,
          122.4989,
          -149.2833,
          -77.15,
          46.9987,
          -47.3561,
          -121.7733,
          110.3967,
          11.8665,
          -54.05,
          -0.8967,
          29.6267,
          -105.8406,
          103.1719,
          72.5167,
          59.1348,
          -62.2667,
          74.1333,
          148.1667,
          -92.9438,
          74.371,
          47.3346,
          168.1028,
          127.2667,
          141.4333,
          173.9474,
          -72.2432,
          71.446,
          142.3475,
          -9.2629,
          25.5,
          104.3626,
          21.2561,
          17.9442,
          -41.0511,
          141.8833,
          -36.985,
          73.5667,
          132.75,
          172.984,
          -58.5077,
          1.3862,
          128.7333,
          44.75,
          150.8,
          12.8666,
          92.1703,
          50.5011,
          27.9116,
          21.6333,
          -102.1667,
          156.8419,
          -77.9639,
          -51.0664,
          -102.3501,
          -90.8244,
          45.9686,
          -77.5667,
          97.7333,
          -63.5724,
          28.6702,
          -52.7093,
          117.6469,
          6.95,
          179.1942,
          29.7153,
          -72.3287,
          57.5281,
          -0.0113,
          -24.2934,
          -119.7074,
          115.7703,
          73.8833,
          51.2159,
          116.025,
          32.65,
          168.9751,
          -109.05,
          -68.3301,
          -121.9166,
          142.9478,
          -50.0904,
          40.6728,
          80.217,
          -38.8828,
          -70.7581,
          73.3007,
          -157.9253,
          87.7095,
          127.6694,
          103.1635,
          -20.9971,
          18.957,
          -68.4681,
          -117.286,
          64.9375,
          59.9303,
          76.9717,
          105.6791,
          24.7087,
          -90.2604,
          -53.6735,
          96.3801,
          -9.3811,
          81.8167,
          -73.6167,
          143.5544,
          101.7667,
          -96.6,
          101.9603,
          179.3833,
          158.1611,
          0.7868,
          147.2712,
          -8.1474,
          -122.7362,
          107.0881,
          125.7483,
          -72.4167,
          43.8142,
          83.2158,
          55.6167,
          -89.3168,
          77.5833,
          135.4833,
          17.25,
          -111.381,
          -89.3751,
          -59.7968,
          115.28,
          -89.6,
          -59.6997,
          119.9103,
          168.3219,
          78.9456,
          70.9221,
          99.25,
          -63.5167,
          -95.9877,
          5.5228,
          59.5289,
          -39.2689,
          -46.9578,
          -85.8055,
          125.2833,
          -103.6583,
          -122.6762,
          53.2333,
          134.4856,
          40.2848,
          45.4833,
          97.2333,
          118.3319,
          -91.7382,
          -97.6003,
          19.1043,
          117.6556,
          112.4714,
          -82.8667,
          -118.8027,
          19.7667,
          -15.2217,
          38.3,
          -75.4557,
          145.701,
          -72.6333,
          99.9924,
          34.9667,
          -6.589,
          109.2333
         ],
         "marker": {
          "color": [
           94,
           58,
           80,
           70,
           71,
           19,
           86,
           86,
           56,
           73,
           78,
           27,
           85,
           92,
           61,
           88,
           76,
           24,
           72,
           75,
           86,
           93,
           88,
           81,
           88,
           78,
           73,
           64,
           54,
           96,
           89,
           76,
           78,
           83,
           77,
           85,
           67,
           92,
           68,
           96,
           96,
           82,
           83,
           71,
           37,
           83,
           79,
           93,
           100,
           77,
           93,
           93,
           81,
           83,
           88,
           87,
           74,
           80,
           54,
           70,
           38,
           22,
           94,
           81,
           71,
           48,
           92,
           88,
           58,
           91,
           47,
           84,
           87,
           91,
           70,
           78,
           61,
           91,
           77,
           86,
           58,
           54,
           93,
           24,
           95,
           77,
           60,
           69,
           69,
           94,
           51,
           97,
           88,
           69,
           61,
           87,
           90,
           85,
           95,
           87,
           81,
           70,
           34,
           81,
           60,
           79,
           32,
           90,
           55,
           42,
           15,
           84,
           81,
           84,
           89,
           78,
           43,
           75,
           75,
           94,
           85,
           65,
           86,
           99,
           35,
           69,
           100,
           18,
           90,
           40,
           75,
           16,
           77,
           91,
           95,
           76,
           94,
           28,
           88,
           89,
           33,
           72,
           75,
           80,
           62,
           83,
           77,
           15,
           71,
           91,
           90,
           41,
           70,
           22,
           88,
           69,
           72,
           77,
           73,
           6,
           31,
           80,
           55,
           47,
           31,
           60,
           23,
           66,
           44,
           89,
           68,
           80,
           73,
           78,
           10,
           57,
           42,
           68,
           86,
           32,
           50,
           66,
           80,
           85,
           89,
           93,
           71,
           90,
           83,
           68,
           84,
           84,
           37,
           82,
           82,
           54,
           14,
           7,
           65,
           73,
           75,
           70,
           76,
           91,
           93,
           98,
           79,
           96,
           84,
           88,
           74,
           88,
           51,
           52,
           89,
           88,
           70,
           38,
           72,
           97,
           80,
           87,
           80,
           67,
           73,
           43,
           50,
           88,
           62,
           48,
           83,
           39,
           34,
           58,
           100,
           66,
           76,
           81,
           91,
           87,
           96,
           81,
           84,
           29,
           76,
           70,
           65,
           91,
           100,
           100,
           95,
           91,
           29,
           40,
           93,
           28,
           71,
           56,
           94,
           86,
           58,
           79,
           89,
           68,
           40,
           44,
           79,
           50,
           75,
           95,
           77,
           64,
           62,
           38,
           64,
           57,
           72,
           87,
           96,
           92,
           73,
           58,
           92,
           95,
           93,
           66,
           97,
           55,
           8,
           28,
           88,
           56,
           80,
           86,
           86,
           60,
           44,
           87,
           59,
           74,
           76,
           52,
           58,
           10,
           49,
           88,
           61,
           80,
           84,
           45,
           74,
           57,
           68,
           55,
           92,
           88,
           72,
           57,
           40,
           78,
           62,
           98,
           83,
           89,
           93,
           76,
           31,
           67,
           75,
           43,
           98,
           79,
           77,
           90,
           98,
           18,
           24,
           76,
           70,
           89,
           20,
           77,
           25,
           36,
           63,
           88,
           78,
           45,
           7,
           33,
           26,
           88,
           85,
           92,
           22,
           31,
           66,
           95,
           69,
           12,
           65,
           95,
           58,
           64,
           67,
           39,
           89,
           66,
           19,
           78,
           85,
           87,
           83,
           100,
           26,
           98,
           86,
           69,
           35,
           84,
           66,
           96,
           81,
           72,
           84,
           24,
           98,
           27,
           77,
           75,
           82,
           19,
           22,
           18,
           94,
           83,
           24,
           46,
           82,
           97,
           21,
           73,
           13,
           50,
           40,
           73,
           71,
           41,
           93,
           88,
           98,
           94,
           52,
           18,
           68,
           78,
           11,
           47,
           61,
           88,
           76,
           82,
           97,
           77,
           88,
           82,
           91,
           53,
           67,
           83,
           98,
           84,
           77,
           48,
           44,
           83,
           63,
           92,
           63,
           49,
           30,
           91,
           12,
           74,
           29,
           36,
           70,
           82,
           60,
           78,
           78,
           75,
           52,
           61,
           78,
           80,
           99,
           91,
           68,
           79,
           83,
           85,
           93,
           35,
           81,
           87,
           85,
           39,
           65,
           82,
           80,
           28,
           85,
           79,
           94,
           56,
           87,
           9,
           79,
           9,
           89,
           61,
           96,
           28,
           72,
           74,
           51,
           83,
           76,
           81,
           82,
           35,
           35,
           43,
           30,
           48,
           85,
           78,
           53,
           38,
           88,
           81,
           91,
           84,
           82,
           88,
           17,
           52,
           74,
           33,
           96,
           43,
           72,
           75,
           54,
           43,
           91,
           95,
           26,
           100,
           96,
           77,
           92,
           81,
           84,
           68,
           93,
           35,
           16,
           82,
           68,
           92,
           76,
           95,
           79,
           32,
           79,
           56,
           95,
           76,
           87,
           55,
           81,
           50,
           79,
           71,
           92,
           32,
           97,
           83,
           91,
           86,
           90,
           33,
           83,
           35,
           45,
           76,
           96,
           50,
           18,
           58,
           88,
           78,
           96,
           100,
           89,
           59,
           65,
           70,
           22,
           77,
           10,
           54,
           26,
           78,
           8,
           63,
           65,
           78,
           53,
           55,
           60,
           89,
           97,
           73,
           99,
           42,
           75,
           87,
           67
          ],
          "coloraxis": "coloraxis",
          "size": [
           94,
           58,
           80,
           70,
           71,
           19,
           86,
           86,
           56,
           73,
           78,
           27,
           85,
           92,
           61,
           88,
           76,
           24,
           72,
           75,
           86,
           93,
           88,
           81,
           88,
           78,
           73,
           64,
           54,
           96,
           89,
           76,
           78,
           83,
           77,
           85,
           67,
           92,
           68,
           96,
           96,
           82,
           83,
           71,
           37,
           83,
           79,
           93,
           100,
           77,
           93,
           93,
           81,
           83,
           88,
           87,
           74,
           80,
           54,
           70,
           38,
           22,
           94,
           81,
           71,
           48,
           92,
           88,
           58,
           91,
           47,
           84,
           87,
           91,
           70,
           78,
           61,
           91,
           77,
           86,
           58,
           54,
           93,
           24,
           95,
           77,
           60,
           69,
           69,
           94,
           51,
           97,
           88,
           69,
           61,
           87,
           90,
           85,
           95,
           87,
           81,
           70,
           34,
           81,
           60,
           79,
           32,
           90,
           55,
           42,
           15,
           84,
           81,
           84,
           89,
           78,
           43,
           75,
           75,
           94,
           85,
           65,
           86,
           99,
           35,
           69,
           100,
           18,
           90,
           40,
           75,
           16,
           77,
           91,
           95,
           76,
           94,
           28,
           88,
           89,
           33,
           72,
           75,
           80,
           62,
           83,
           77,
           15,
           71,
           91,
           90,
           41,
           70,
           22,
           88,
           69,
           72,
           77,
           73,
           6,
           31,
           80,
           55,
           47,
           31,
           60,
           23,
           66,
           44,
           89,
           68,
           80,
           73,
           78,
           10,
           57,
           42,
           68,
           86,
           32,
           50,
           66,
           80,
           85,
           89,
           93,
           71,
           90,
           83,
           68,
           84,
           84,
           37,
           82,
           82,
           54,
           14,
           7,
           65,
           73,
           75,
           70,
           76,
           91,
           93,
           98,
           79,
           96,
           84,
           88,
           74,
           88,
           51,
           52,
           89,
           88,
           70,
           38,
           72,
           97,
           80,
           87,
           80,
           67,
           73,
           43,
           50,
           88,
           62,
           48,
           83,
           39,
           34,
           58,
           100,
           66,
           76,
           81,
           91,
           87,
           96,
           81,
           84,
           29,
           76,
           70,
           65,
           91,
           100,
           100,
           95,
           91,
           29,
           40,
           93,
           28,
           71,
           56,
           94,
           86,
           58,
           79,
           89,
           68,
           40,
           44,
           79,
           50,
           75,
           95,
           77,
           64,
           62,
           38,
           64,
           57,
           72,
           87,
           96,
           92,
           73,
           58,
           92,
           95,
           93,
           66,
           97,
           55,
           8,
           28,
           88,
           56,
           80,
           86,
           86,
           60,
           44,
           87,
           59,
           74,
           76,
           52,
           58,
           10,
           49,
           88,
           61,
           80,
           84,
           45,
           74,
           57,
           68,
           55,
           92,
           88,
           72,
           57,
           40,
           78,
           62,
           98,
           83,
           89,
           93,
           76,
           31,
           67,
           75,
           43,
           98,
           79,
           77,
           90,
           98,
           18,
           24,
           76,
           70,
           89,
           20,
           77,
           25,
           36,
           63,
           88,
           78,
           45,
           7,
           33,
           26,
           88,
           85,
           92,
           22,
           31,
           66,
           95,
           69,
           12,
           65,
           95,
           58,
           64,
           67,
           39,
           89,
           66,
           19,
           78,
           85,
           87,
           83,
           100,
           26,
           98,
           86,
           69,
           35,
           84,
           66,
           96,
           81,
           72,
           84,
           24,
           98,
           27,
           77,
           75,
           82,
           19,
           22,
           18,
           94,
           83,
           24,
           46,
           82,
           97,
           21,
           73,
           13,
           50,
           40,
           73,
           71,
           41,
           93,
           88,
           98,
           94,
           52,
           18,
           68,
           78,
           11,
           47,
           61,
           88,
           76,
           82,
           97,
           77,
           88,
           82,
           91,
           53,
           67,
           83,
           98,
           84,
           77,
           48,
           44,
           83,
           63,
           92,
           63,
           49,
           30,
           91,
           12,
           74,
           29,
           36,
           70,
           82,
           60,
           78,
           78,
           75,
           52,
           61,
           78,
           80,
           99,
           91,
           68,
           79,
           83,
           85,
           93,
           35,
           81,
           87,
           85,
           39,
           65,
           82,
           80,
           28,
           85,
           79,
           94,
           56,
           87,
           9,
           79,
           9,
           89,
           61,
           96,
           28,
           72,
           74,
           51,
           83,
           76,
           81,
           82,
           35,
           35,
           43,
           30,
           48,
           85,
           78,
           53,
           38,
           88,
           81,
           91,
           84,
           82,
           88,
           17,
           52,
           74,
           33,
           96,
           43,
           72,
           75,
           54,
           43,
           91,
           95,
           26,
           100,
           96,
           77,
           92,
           81,
           84,
           68,
           93,
           35,
           16,
           82,
           68,
           92,
           76,
           95,
           79,
           32,
           79,
           56,
           95,
           76,
           87,
           55,
           81,
           50,
           79,
           71,
           92,
           32,
           97,
           83,
           91,
           86,
           90,
           33,
           83,
           35,
           45,
           76,
           96,
           50,
           18,
           58,
           88,
           78,
           96,
           100,
           89,
           59,
           65,
           70,
           22,
           77,
           10,
           54,
           26,
           78,
           8,
           63,
           65,
           78,
           53,
           55,
           60,
           89,
           97,
           73,
           99,
           42,
           75,
           87,
           67
          ],
          "sizemode": "area",
          "sizeref": 0.25,
          "symbol": "circle"
         },
         "mode": "markers",
         "name": "",
         "showlegend": false,
         "type": "scattergeo"
        }
       ],
       "layout": {
        "coloraxis": {
         "colorbar": {
          "title": {
           "text": "Humidity"
          }
         },
         "colorscale": [
          [
           0,
           "rgb(247,251,255)"
          ],
          [
           0.125,
           "rgb(222,235,247)"
          ],
          [
           0.25,
           "rgb(198,219,239)"
          ],
          [
           0.375,
           "rgb(158,202,225)"
          ],
          [
           0.5,
           "rgb(107,174,214)"
          ],
          [
           0.625,
           "rgb(66,146,198)"
          ],
          [
           0.75,
           "rgb(33,113,181)"
          ],
          [
           0.875,
           "rgb(8,81,156)"
          ],
          [
           1,
           "rgb(8,48,107)"
          ]
         ]
        },
        "geo": {
         "center": {},
         "domain": {
          "x": [
           0,
           1
          ],
          "y": [
           0,
           1
          ]
         },
         "landcolor": "lightgray",
         "projection": {
          "type": "natural earth"
         },
         "showland": true
        },
        "legend": {
         "itemsizing": "constant",
         "tracegroupgap": 0
        },
        "template": {
         "data": {
          "bar": [
           {
            "error_x": {
             "color": "#2a3f5f"
            },
            "error_y": {
             "color": "#2a3f5f"
            },
            "marker": {
             "line": {
              "color": "#E5ECF6",
              "width": 0.5
             },
             "pattern": {
              "fillmode": "overlay",
              "size": 10,
              "solidity": 0.2
             }
            },
            "type": "bar"
           }
          ],
          "barpolar": [
           {
            "marker": {
             "line": {
              "color": "#E5ECF6",
              "width": 0.5
             },
             "pattern": {
              "fillmode": "overlay",
              "size": 10,
              "solidity": 0.2
             }
            },
            "type": "barpolar"
           }
          ],
          "carpet": [
           {
            "aaxis": {
             "endlinecolor": "#2a3f5f",
             "gridcolor": "white",
             "linecolor": "white",
             "minorgridcolor": "white",
             "startlinecolor": "#2a3f5f"
            },
            "baxis": {
             "endlinecolor": "#2a3f5f",
             "gridcolor": "white",
             "linecolor": "white",
             "minorgridcolor": "white",
             "startlinecolor": "#2a3f5f"
            },
            "type": "carpet"
           }
          ],
          "choropleth": [
           {
            "colorbar": {
             "outlinewidth": 0,
             "ticks": ""
            },
            "type": "choropleth"
           }
          ],
          "contour": [
           {
            "colorbar": {
             "outlinewidth": 0,
             "ticks": ""
            },
            "colorscale": [
             [
              0,
              "#0d0887"
             ],
             [
              0.1111111111111111,
              "#46039f"
             ],
             [
              0.2222222222222222,
              "#7201a8"
             ],
             [
              0.3333333333333333,
              "#9c179e"
             ],
             [
              0.4444444444444444,
              "#bd3786"
             ],
             [
              0.5555555555555556,
              "#d8576b"
             ],
             [
              0.6666666666666666,
              "#ed7953"
             ],
             [
              0.7777777777777778,
              "#fb9f3a"
             ],
             [
              0.8888888888888888,
              "#fdca26"
             ],
             [
              1,
              "#f0f921"
             ]
            ],
            "type": "contour"
           }
          ],
          "contourcarpet": [
           {
            "colorbar": {
             "outlinewidth": 0,
             "ticks": ""
            },
            "type": "contourcarpet"
           }
          ],
          "heatmap": [
           {
            "colorbar": {
             "outlinewidth": 0,
             "ticks": ""
            },
            "colorscale": [
             [
              0,
              "#0d0887"
             ],
             [
              0.1111111111111111,
              "#46039f"
             ],
             [
              0.2222222222222222,
              "#7201a8"
             ],
             [
              0.3333333333333333,
              "#9c179e"
             ],
             [
              0.4444444444444444,
              "#bd3786"
             ],
             [
              0.5555555555555556,
              "#d8576b"
             ],
             [
              0.6666666666666666,
              "#ed7953"
             ],
             [
              0.7777777777777778,
              "#fb9f3a"
             ],
             [
              0.8888888888888888,
              "#fdca26"
             ],
             [
              1,
              "#f0f921"
             ]
            ],
            "type": "heatmap"
           }
          ],
          "heatmapgl": [
           {
            "colorbar": {
             "outlinewidth": 0,
             "ticks": ""
            },
            "colorscale": [
             [
              0,
              "#0d0887"
             ],
             [
              0.1111111111111111,
              "#46039f"
             ],
             [
              0.2222222222222222,
              "#7201a8"
             ],
             [
              0.3333333333333333,
              "#9c179e"
             ],
             [
              0.4444444444444444,
              "#bd3786"
             ],
             [
              0.5555555555555556,
              "#d8576b"
             ],
             [
              0.6666666666666666,
              "#ed7953"
             ],
             [
              0.7777777777777778,
              "#fb9f3a"
             ],
             [
              0.8888888888888888,
              "#fdca26"
             ],
             [
              1,
              "#f0f921"
             ]
            ],
            "type": "heatmapgl"
           }
          ],
          "histogram": [
           {
            "marker": {
             "pattern": {
              "fillmode": "overlay",
              "size": 10,
              "solidity": 0.2
             }
            },
            "type": "histogram"
           }
          ],
          "histogram2d": [
           {
            "colorbar": {
             "outlinewidth": 0,
             "ticks": ""
            },
            "colorscale": [
             [
              0,
              "#0d0887"
             ],
             [
              0.1111111111111111,
              "#46039f"
             ],
             [
              0.2222222222222222,
              "#7201a8"
             ],
             [
              0.3333333333333333,
              "#9c179e"
             ],
             [
              0.4444444444444444,
              "#bd3786"
             ],
             [
              0.5555555555555556,
              "#d8576b"
             ],
             [
              0.6666666666666666,
              "#ed7953"
             ],
             [
              0.7777777777777778,
              "#fb9f3a"
             ],
             [
              0.8888888888888888,
              "#fdca26"
             ],
             [
              1,
              "#f0f921"
             ]
            ],
            "type": "histogram2d"
           }
          ],
          "histogram2dcontour": [
           {
            "colorbar": {
             "outlinewidth": 0,
             "ticks": ""
            },
            "colorscale": [
             [
              0,
              "#0d0887"
             ],
             [
              0.1111111111111111,
              "#46039f"
             ],
             [
              0.2222222222222222,
              "#7201a8"
             ],
             [
              0.3333333333333333,
              "#9c179e"
             ],
             [
              0.4444444444444444,
              "#bd3786"
             ],
             [
              0.5555555555555556,
              "#d8576b"
             ],
             [
              0.6666666666666666,
              "#ed7953"
             ],
             [
              0.7777777777777778,
              "#fb9f3a"
             ],
             [
              0.8888888888888888,
              "#fdca26"
             ],
             [
              1,
              "#f0f921"
             ]
            ],
            "type": "histogram2dcontour"
           }
          ],
          "mesh3d": [
           {
            "colorbar": {
             "outlinewidth": 0,
             "ticks": ""
            },
            "type": "mesh3d"
           }
          ],
          "parcoords": [
           {
            "line": {
             "colorbar": {
              "outlinewidth": 0,
              "ticks": ""
             }
            },
            "type": "parcoords"
           }
          ],
          "pie": [
           {
            "automargin": true,
            "type": "pie"
           }
          ],
          "scatter": [
           {
            "fillpattern": {
             "fillmode": "overlay",
             "size": 10,
             "solidity": 0.2
            },
            "type": "scatter"
           }
          ],
          "scatter3d": [
           {
            "line": {
             "colorbar": {
              "outlinewidth": 0,
              "ticks": ""
             }
            },
            "marker": {
             "colorbar": {
              "outlinewidth": 0,
              "ticks": ""
             }
            },
            "type": "scatter3d"
           }
          ],
          "scattercarpet": [
           {
            "marker": {
             "colorbar": {
              "outlinewidth": 0,
              "ticks": ""
             }
            },
            "type": "scattercarpet"
           }
          ],
          "scattergeo": [
           {
            "marker": {
             "colorbar": {
              "outlinewidth": 0,
              "ticks": ""
             }
            },
            "type": "scattergeo"
           }
          ],
          "scattergl": [
           {
            "marker": {
             "colorbar": {
              "outlinewidth": 0,
              "ticks": ""
             }
            },
            "type": "scattergl"
           }
          ],
          "scattermapbox": [
           {
            "marker": {
             "colorbar": {
              "outlinewidth": 0,
              "ticks": ""
             }
            },
            "type": "scattermapbox"
           }
          ],
          "scatterpolar": [
           {
            "marker": {
             "colorbar": {
              "outlinewidth": 0,
              "ticks": ""
             }
            },
            "type": "scatterpolar"
           }
          ],
          "scatterpolargl": [
           {
            "marker": {
             "colorbar": {
              "outlinewidth": 0,
              "ticks": ""
             }
            },
            "type": "scatterpolargl"
           }
          ],
          "scatterternary": [
           {
            "marker": {
             "colorbar": {
              "outlinewidth": 0,
              "ticks": ""
             }
            },
            "type": "scatterternary"
           }
          ],
          "surface": [
           {
            "colorbar": {
             "outlinewidth": 0,
             "ticks": ""
            },
            "colorscale": [
             [
              0,
              "#0d0887"
             ],
             [
              0.1111111111111111,
              "#46039f"
             ],
             [
              0.2222222222222222,
              "#7201a8"
             ],
             [
              0.3333333333333333,
              "#9c179e"
             ],
             [
              0.4444444444444444,
              "#bd3786"
             ],
             [
              0.5555555555555556,
              "#d8576b"
             ],
             [
              0.6666666666666666,
              "#ed7953"
             ],
             [
              0.7777777777777778,
              "#fb9f3a"
             ],
             [
              0.8888888888888888,
              "#fdca26"
             ],
             [
              1,
              "#f0f921"
             ]
            ],
            "type": "surface"
           }
          ],
          "table": [
           {
            "cells": {
             "fill": {
              "color": "#EBF0F8"
             },
             "line": {
              "color": "white"
             }
            },
            "header": {
             "fill": {
              "color": "#C8D4E3"
             },
             "line": {
              "color": "white"
             }
            },
            "type": "table"
           }
          ]
         },
         "layout": {
          "annotationdefaults": {
           "arrowcolor": "#2a3f5f",
           "arrowhead": 0,
           "arrowwidth": 1
          },
          "autotypenumbers": "strict",
          "coloraxis": {
           "colorbar": {
            "outlinewidth": 0,
            "ticks": ""
           }
          },
          "colorscale": {
           "diverging": [
            [
             0,
             "#8e0152"
            ],
            [
             0.1,
             "#c51b7d"
            ],
            [
             0.2,
             "#de77ae"
            ],
            [
             0.3,
             "#f1b6da"
            ],
            [
             0.4,
             "#fde0ef"
            ],
            [
             0.5,
             "#f7f7f7"
            ],
            [
             0.6,
             "#e6f5d0"
            ],
            [
             0.7,
             "#b8e186"
            ],
            [
             0.8,
             "#7fbc41"
            ],
            [
             0.9,
             "#4d9221"
            ],
            [
             1,
             "#276419"
            ]
           ],
           "sequential": [
            [
             0,
             "#0d0887"
            ],
            [
             0.1111111111111111,
             "#46039f"
            ],
            [
             0.2222222222222222,
             "#7201a8"
            ],
            [
             0.3333333333333333,
             "#9c179e"
            ],
            [
             0.4444444444444444,
             "#bd3786"
            ],
            [
             0.5555555555555556,
             "#d8576b"
            ],
            [
             0.6666666666666666,
             "#ed7953"
            ],
            [
             0.7777777777777778,
             "#fb9f3a"
            ],
            [
             0.8888888888888888,
             "#fdca26"
            ],
            [
             1,
             "#f0f921"
            ]
           ],
           "sequentialminus": [
            [
             0,
             "#0d0887"
            ],
            [
             0.1111111111111111,
             "#46039f"
            ],
            [
             0.2222222222222222,
             "#7201a8"
            ],
            [
             0.3333333333333333,
             "#9c179e"
            ],
            [
             0.4444444444444444,
             "#bd3786"
            ],
            [
             0.5555555555555556,
             "#d8576b"
            ],
            [
             0.6666666666666666,
             "#ed7953"
            ],
            [
             0.7777777777777778,
             "#fb9f3a"
            ],
            [
             0.8888888888888888,
             "#fdca26"
            ],
            [
             1,
             "#f0f921"
            ]
           ]
          },
          "colorway": [
           "#636efa",
           "#EF553B",
           "#00cc96",
           "#ab63fa",
           "#FFA15A",
           "#19d3f3",
           "#FF6692",
           "#B6E880",
           "#FF97FF",
           "#FECB52"
          ],
          "font": {
           "color": "#2a3f5f"
          },
          "geo": {
           "bgcolor": "white",
           "lakecolor": "white",
           "landcolor": "#E5ECF6",
           "showlakes": true,
           "showland": true,
           "subunitcolor": "white"
          },
          "hoverlabel": {
           "align": "left"
          },
          "hovermode": "closest",
          "mapbox": {
           "style": "light"
          },
          "paper_bgcolor": "white",
          "plot_bgcolor": "#E5ECF6",
          "polar": {
           "angularaxis": {
            "gridcolor": "white",
            "linecolor": "white",
            "ticks": ""
           },
           "bgcolor": "#E5ECF6",
           "radialaxis": {
            "gridcolor": "white",
            "linecolor": "white",
            "ticks": ""
           }
          },
          "scene": {
           "xaxis": {
            "backgroundcolor": "#E5ECF6",
            "gridcolor": "white",
            "gridwidth": 2,
            "linecolor": "white",
            "showbackground": true,
            "ticks": "",
            "zerolinecolor": "white"
           },
           "yaxis": {
            "backgroundcolor": "#E5ECF6",
            "gridcolor": "white",
            "gridwidth": 2,
            "linecolor": "white",
            "showbackground": true,
            "ticks": "",
            "zerolinecolor": "white"
           },
           "zaxis": {
            "backgroundcolor": "#E5ECF6",
            "gridcolor": "white",
            "gridwidth": 2,
            "linecolor": "white",
            "showbackground": true,
            "ticks": "",
            "zerolinecolor": "white"
           }
          },
          "shapedefaults": {
           "line": {
            "color": "#2a3f5f"
           }
          },
          "ternary": {
           "aaxis": {
            "gridcolor": "white",
            "linecolor": "white",
            "ticks": ""
           },
           "baxis": {
            "gridcolor": "white",
            "linecolor": "white",
            "ticks": ""
           },
           "bgcolor": "#E5ECF6",
           "caxis": {
            "gridcolor": "white",
            "linecolor": "white",
            "ticks": ""
           }
          },
          "title": {
           "x": 0.05
          },
          "xaxis": {
           "automargin": true,
           "gridcolor": "white",
           "linecolor": "white",
           "ticks": "",
           "title": {
            "standoff": 15
           },
           "zerolinecolor": "white",
           "zerolinewidth": 2
          },
          "yaxis": {
           "automargin": true,
           "gridcolor": "white",
           "linecolor": "white",
           "ticks": "",
           "title": {
            "standoff": 15
           },
           "zerolinecolor": "white",
           "zerolinewidth": 2
          }
         }
        },
        "title": {
         "text": "City Humidity Levels",
         "x": 0.5
        }
       }
      }
     },
     "metadata": {},
     "output_type": "display_data"
    }
   ],
   "source": [
    "%%capture --no-display\n",
    "import plotly.express as px\n",
    "\n",
    "# Create the humidity map\n",
    "fig = px.scatter_geo(\n",
    "    city_data_df,\n",
    "    lat=\"Lat\",\n",
    "    lon=\"Lng\",\n",
    "    color=\"Humidity\",\n",
    "    size=\"Humidity\",\n",
    "    hover_name=\"City\",\n",
    "    projection=\"natural earth\",\n",
    "    title=\"City Humidity Levels\",\n",
    "    color_continuous_scale=\"Blues\"\n",
    ")\n",
    "\n",
    "fig.update_layout(\n",
    "    geo=dict(showland=True, landcolor=\"lightgray\"),\n",
    "    title_x=0.5\n",
    ")\n",
    "\n",
    "# Show the map\n",
    "fig.show()"
   ]
  },
  {
   "cell_type": "markdown",
   "metadata": {},
   "source": [
    "### Step 2: Narrow down the `city_data_df` DataFrame to find your ideal weather condition"
   ]
  },
  {
   "cell_type": "code",
   "execution_count": 4,
   "metadata": {},
   "outputs": [
    {
     "data": {
      "text/html": [
       "<div>\n",
       "<style scoped>\n",
       "    .dataframe tbody tr th:only-of-type {\n",
       "        vertical-align: middle;\n",
       "    }\n",
       "\n",
       "    .dataframe tbody tr th {\n",
       "        vertical-align: top;\n",
       "    }\n",
       "\n",
       "    .dataframe thead th {\n",
       "        text-align: right;\n",
       "    }\n",
       "</style>\n",
       "<table border=\"1\" class=\"dataframe\">\n",
       "  <thead>\n",
       "    <tr style=\"text-align: right;\">\n",
       "      <th></th>\n",
       "      <th>City_ID</th>\n",
       "      <th>City</th>\n",
       "      <th>Lat</th>\n",
       "      <th>Lng</th>\n",
       "      <th>Max Temp</th>\n",
       "      <th>Humidity</th>\n",
       "      <th>Cloudiness</th>\n",
       "      <th>Wind Speed</th>\n",
       "      <th>Country</th>\n",
       "      <th>Date</th>\n",
       "    </tr>\n",
       "  </thead>\n",
       "  <tbody>\n",
       "    <tr>\n",
       "      <th>5</th>\n",
       "      <td>5</td>\n",
       "      <td>al manshah</td>\n",
       "      <td>26.4769</td>\n",
       "      <td>31.8035</td>\n",
       "      <td>28.86</td>\n",
       "      <td>19</td>\n",
       "      <td>1</td>\n",
       "      <td>2.27</td>\n",
       "      <td>EG</td>\n",
       "      <td>1746853764</td>\n",
       "    </tr>\n",
       "    <tr>\n",
       "      <th>8</th>\n",
       "      <td>8</td>\n",
       "      <td>blackmans bay</td>\n",
       "      <td>-43.0167</td>\n",
       "      <td>147.3167</td>\n",
       "      <td>18.74</td>\n",
       "      <td>56</td>\n",
       "      <td>72</td>\n",
       "      <td>0.89</td>\n",
       "      <td>AU</td>\n",
       "      <td>1746853767</td>\n",
       "    </tr>\n",
       "    <tr>\n",
       "      <th>11</th>\n",
       "      <td>11</td>\n",
       "      <td>alice springs</td>\n",
       "      <td>-23.7000</td>\n",
       "      <td>133.8833</td>\n",
       "      <td>23.75</td>\n",
       "      <td>27</td>\n",
       "      <td>0</td>\n",
       "      <td>4.63</td>\n",
       "      <td>AU</td>\n",
       "      <td>1746853770</td>\n",
       "    </tr>\n",
       "    <tr>\n",
       "      <th>28</th>\n",
       "      <td>28</td>\n",
       "      <td>uruacu</td>\n",
       "      <td>-14.5247</td>\n",
       "      <td>-49.1408</td>\n",
       "      <td>22.14</td>\n",
       "      <td>54</td>\n",
       "      <td>28</td>\n",
       "      <td>1.91</td>\n",
       "      <td>BR</td>\n",
       "      <td>1746853790</td>\n",
       "    </tr>\n",
       "    <tr>\n",
       "      <th>60</th>\n",
       "      <td>60</td>\n",
       "      <td>forbes</td>\n",
       "      <td>-33.3833</td>\n",
       "      <td>148.0167</td>\n",
       "      <td>21.86</td>\n",
       "      <td>38</td>\n",
       "      <td>0</td>\n",
       "      <td>3.13</td>\n",
       "      <td>AU</td>\n",
       "      <td>1746853826</td>\n",
       "    </tr>\n",
       "  </tbody>\n",
       "</table>\n",
       "</div>"
      ],
      "text/plain": [
       "    City_ID           City      Lat       Lng  Max Temp  Humidity  Cloudiness  \\\n",
       "5         5     al manshah  26.4769   31.8035     28.86        19           1   \n",
       "8         8  blackmans bay -43.0167  147.3167     18.74        56          72   \n",
       "11       11  alice springs -23.7000  133.8833     23.75        27           0   \n",
       "28       28         uruacu -14.5247  -49.1408     22.14        54          28   \n",
       "60       60         forbes -33.3833  148.0167     21.86        38           0   \n",
       "\n",
       "    Wind Speed Country        Date  \n",
       "5         2.27      EG  1746853764  \n",
       "8         0.89      AU  1746853767  \n",
       "11        4.63      AU  1746853770  \n",
       "28        1.91      BR  1746853790  \n",
       "60        3.13      AU  1746853826  "
      ]
     },
     "execution_count": 4,
     "metadata": {},
     "output_type": "execute_result"
    }
   ],
   "source": [
    "# Narrow down cities that meet your criteria (example: high humidity & moderate temp)\n",
    "filtered_cities = city_data_df[\n",
    "    (city_data_df[\"Humidity\"] <= 65) &\n",
    "    (city_data_df[\"Max Temp\"] >= 15) &\n",
    "    (city_data_df[\"Max Temp\"] <= 30)\n",
    "]\n",
    "\n",
    "# Drop any rows with null values\n",
    "filtered_cities = filtered_cities.dropna()\n",
    "\n",
    "# Display sample data\n",
    "filtered_cities.head()"
   ]
  },
  {
   "cell_type": "markdown",
   "metadata": {},
   "source": [
    "### Step 3: Create a new DataFrame called `hotel_df`."
   ]
  },
  {
   "cell_type": "code",
   "execution_count": 5,
   "metadata": {},
   "outputs": [
    {
     "data": {
      "text/html": [
       "<div>\n",
       "<style scoped>\n",
       "    .dataframe tbody tr th:only-of-type {\n",
       "        vertical-align: middle;\n",
       "    }\n",
       "\n",
       "    .dataframe tbody tr th {\n",
       "        vertical-align: top;\n",
       "    }\n",
       "\n",
       "    .dataframe thead th {\n",
       "        text-align: right;\n",
       "    }\n",
       "</style>\n",
       "<table border=\"1\" class=\"dataframe\">\n",
       "  <thead>\n",
       "    <tr style=\"text-align: right;\">\n",
       "      <th></th>\n",
       "      <th>City</th>\n",
       "      <th>Country</th>\n",
       "      <th>Lat</th>\n",
       "      <th>Lng</th>\n",
       "      <th>Humidity</th>\n",
       "      <th>Hotel Name</th>\n",
       "    </tr>\n",
       "  </thead>\n",
       "  <tbody>\n",
       "    <tr>\n",
       "      <th>5</th>\n",
       "      <td>al manshah</td>\n",
       "      <td>EG</td>\n",
       "      <td>26.4769</td>\n",
       "      <td>31.8035</td>\n",
       "      <td>19</td>\n",
       "      <td></td>\n",
       "    </tr>\n",
       "    <tr>\n",
       "      <th>8</th>\n",
       "      <td>blackmans bay</td>\n",
       "      <td>AU</td>\n",
       "      <td>-43.0167</td>\n",
       "      <td>147.3167</td>\n",
       "      <td>56</td>\n",
       "      <td></td>\n",
       "    </tr>\n",
       "    <tr>\n",
       "      <th>11</th>\n",
       "      <td>alice springs</td>\n",
       "      <td>AU</td>\n",
       "      <td>-23.7000</td>\n",
       "      <td>133.8833</td>\n",
       "      <td>27</td>\n",
       "      <td></td>\n",
       "    </tr>\n",
       "    <tr>\n",
       "      <th>28</th>\n",
       "      <td>uruacu</td>\n",
       "      <td>BR</td>\n",
       "      <td>-14.5247</td>\n",
       "      <td>-49.1408</td>\n",
       "      <td>54</td>\n",
       "      <td></td>\n",
       "    </tr>\n",
       "    <tr>\n",
       "      <th>60</th>\n",
       "      <td>forbes</td>\n",
       "      <td>AU</td>\n",
       "      <td>-33.3833</td>\n",
       "      <td>148.0167</td>\n",
       "      <td>38</td>\n",
       "      <td></td>\n",
       "    </tr>\n",
       "  </tbody>\n",
       "</table>\n",
       "</div>"
      ],
      "text/plain": [
       "             City Country      Lat       Lng  Humidity Hotel Name\n",
       "5      al manshah      EG  26.4769   31.8035        19           \n",
       "8   blackmans bay      AU -43.0167  147.3167        56           \n",
       "11  alice springs      AU -23.7000  133.8833        27           \n",
       "28         uruacu      BR -14.5247  -49.1408        54           \n",
       "60         forbes      AU -33.3833  148.0167        38           "
      ]
     },
     "execution_count": 5,
     "metadata": {},
     "output_type": "execute_result"
    }
   ],
   "source": [
    "# Use the Pandas copy function to create hotel_df\n",
    "hotel_df = filtered_cities[[\"City\", \"Country\", \"Lat\", \"Lng\", \"Humidity\"]].copy()\n",
    "\n",
    "# Add an empty column called \"Hotel Name\"\n",
    "hotel_df[\"Hotel Name\"] = \"\"\n",
    "\n",
    "# Display sample data\n",
    "hotel_df.head()\n"
   ]
  },
  {
   "cell_type": "markdown",
   "metadata": {},
   "source": [
    "### Step 4: For each city, use the Geoapify API to find the first hotel located within 10,000 metres of your coordinates."
   ]
  },
  {
   "cell_type": "code",
   "execution_count": 6,
   "metadata": {},
   "outputs": [
    {
     "name": "stdout",
     "output_type": "stream",
     "text": [
      "https://api.geoapify.com/v2/places?categories=accommodation.hotel&limit=1&apiKey=09280aac4a7e42dea36f657d8027ac24&filter=circle%3A31.8035%2C26.4769%2C10000&bias=proximity%3A31.8035%2C26.4769\n",
      "200\n",
      "{'type': 'FeatureCollection', 'features': []}\n"
     ]
    }
   ],
   "source": [
    "# Test with a known city\n",
    "test_lat = hotel_df.iloc[0][\"Lat\"]\n",
    "test_lon = hotel_df.iloc[0][\"Lng\"]\n",
    "\n",
    "params = {\n",
    "    \"categories\": \"accommodation.hotel\",\n",
    "    \"limit\": 1,\n",
    "    \"apiKey\": geoapify_key,\n",
    "    \"filter\": f\"circle:{test_lon},{test_lat},10000\",\n",
    "    \"bias\": f\"proximity:{test_lon},{test_lat}\"\n",
    "}\n",
    "\n",
    "response = requests.get(\"https://api.geoapify.com/v2/places\", params=params)\n",
    "print(response.url)         # Check the final URL\n",
    "print(response.status_code) # 200 = OK\n",
    "print(response.json())      # Inspect the data\n"
   ]
  },
  {
   "cell_type": "code",
   "execution_count": 8,
   "metadata": {},
   "outputs": [
    {
     "name": "stdout",
     "output_type": "stream",
     "text": [
      "Starting hotel search\n",
      "al manshah - nearest hotel: No hotel found\n",
      "blackmans bay - nearest hotel: Villa Howden\n",
      "alice springs - nearest hotel: No hotel found\n",
      "uruacu - nearest hotel: No hotel found\n",
      "forbes - nearest hotel: No hotel found\n",
      "el oued - nearest hotel: فندق سوف\n",
      "codrington - nearest hotel: No hotel found\n",
      "margaret river - nearest hotel: Margaret River Hotel\n",
      "ulladulla - nearest hotel: Hotel Marlin\n",
      "oltu - nearest hotel: No hotel found\n",
      "saskatoon - nearest hotel: Colonial Square Inn & Suites\n",
      "viqueque - nearest hotel: Hotel Wailakurini\n",
      "zhanaozen - nearest hotel: No hotel found\n",
      "kaifeng - nearest hotel: 喆啡酒店\n",
      "klyuchi - nearest hotel: No hotel found\n",
      "laguna - nearest hotel: Holiday Inn Express & Suites\n",
      "shiyan - nearest hotel: 汉庭酒店\n",
      "page - nearest hotel: Clarion Inn Page - Lake Powell\n",
      "altai - nearest hotel: Altai hotel 40000-100000T\n",
      "zhangye - nearest hotel: Zhangye Hotel 张掖饭店\n",
      "leninskoye - nearest hotel: No hotel found\n",
      "arkalyk - nearest hotel: Гостиница \"Арсенал\"\n",
      "al qusiyah - nearest hotel: No hotel found\n",
      "lesosibirsk - nearest hotel: No hotel found\n",
      "hovd - nearest hotel: Khovd hotel\n",
      "meadow lake - nearest hotel: No hotel found\n",
      "changping - nearest hotel: 速8酒店\n",
      "umm kaddadah - nearest hotel: No hotel found\n",
      "geraldton - nearest hotel: Ocean Centre Hotel\n",
      "karapinar - nearest hotel: Sezer otel\n",
      "feicheng - nearest hotel: No hotel found\n",
      "fort bragg - nearest hotel: Airborne Inn Lodging\n",
      "mount isa - nearest hotel: Ibis Styles\n",
      "mersa matruh - nearest hotel: صقور\n",
      "ghat - nearest hotel: فندق تاسيلي\n",
      "brookings - nearest hotel: Quality Inn\n",
      "zuunmod - nearest hotel: New World Hotel\n",
      "raja - nearest hotel: No hotel found\n",
      "hadibu - nearest hotel: No hotel found\n",
      "cabo san lucas - nearest hotel: Comfort Rooms\n",
      "beykonak - nearest hotel: Uyguluma Oteli\n",
      "jinchang - nearest hotel: No hotel found\n",
      "port lincoln - nearest hotel: Boston Hotel\n",
      "kerben - nearest hotel: Asia\n",
      "kidal - nearest hotel: No hotel found\n",
      "zhezqazghan - nearest hotel: No hotel found\n",
      "newman - nearest hotel: No hotel found\n",
      "ouadda - nearest hotel: No hotel found\n",
      "aldinga beach - nearest hotel: The Beach Hotel\n",
      "mizdah - nearest hotel: No hotel found\n",
      "xingtai - nearest hotel: No hotel found\n",
      "port augusta - nearest hotel: Hotel Commonwealth\n",
      "liaozhong - nearest hotel: No hotel found\n",
      "mehtar lam - nearest hotel: No hotel found\n",
      "jiuquan - nearest hotel: 民族宾馆\n",
      "sao vicente - nearest hotel: Pousada Vitória\n",
      "dul'durga - nearest hotel: No hotel found\n",
      "adrar - nearest hotel: No hotel found\n",
      "kouango - nearest hotel: No hotel found\n",
      "xiuyan - nearest hotel: No hotel found\n",
      "figuig (centre) - nearest hotel: No hotel found\n",
      "ain sefra - nearest hotel: فندق مكثر\n",
      "baiti - nearest hotel: No hotel found\n",
      "shahr-e kord - nearest hotel: هتل دامون\n",
      "palestina - nearest hotel: Retno Hotel\n",
      "xinqing - nearest hotel: No hotel found\n",
      "awjilah - nearest hotel: No hotel found\n",
      "turkmenbasy - nearest hotel: Hazar Myhmanhanasy\n",
      "nguigmi - nearest hotel: Guest PAM\n",
      "port saint john's - nearest hotel: Outback Inn\n",
      "zhangjiakou - nearest hotel: 商务宾馆\n",
      "alaghsas - nearest hotel: Hôtel Zagado\n",
      "zouerate - nearest hotel: فندق تيرس زمور\n",
      "woodland - nearest hotel: Journey Inn Woodland - Sacramento Airport\n",
      "miles city - nearest hotel: Historic Olive Hotel\n",
      "mishelevka - nearest hotel: No hotel found\n",
      "emerald - nearest hotel: Route 66 Motor Inn\n",
      "cottage grove - nearest hotel: Country Inn & Suites\n",
      "zeya - nearest hotel: Серебряный створ\n",
      "broken hill - nearest hotel: Ibis Styles\n",
      "nur-sultan - nearest hotel: Тарлан\n",
      "yeniseysk - nearest hotel: Отель Енисейский\n",
      "san julian - nearest hotel: No hotel found\n",
      "crane - nearest hotel: No hotel found\n",
      "laojunmiao - nearest hotel: No hotel found\n",
      "tanggu - nearest hotel: 如家酒店(天津塘沽外滩营口道店)\n",
      "spanish springs - nearest hotel: No hotel found\n",
      "bozhou - nearest hotel: No hotel found\n",
      "huangmei - nearest hotel: No hotel found\n",
      "topolobampo - nearest hotel: Hotel Marina Topolobampo\n",
      "vallenar - nearest hotel: Hotel del Marqués\n",
      "uzgen - nearest hotel: Кунрат\n",
      "gejiu - nearest hotel: No hotel found\n",
      "swan hill - nearest hotel: Burke and Wills Motor Inn\n",
      "xining - nearest hotel: Qinghai hotel\n",
      "tindouf - nearest hotel: محمد بوسبي\n",
      "lishui - nearest hotel: 丽水华侨开元名都大酒店\n",
      "lepsy - nearest hotel: Orley\n",
      "prairie view - nearest hotel: Comfort Inn & Suites\n",
      "tamanrasset - nearest hotel: فندق الأمان\n",
      "sur - nearest hotel: Sur Hotel\n",
      "portland - nearest hotel: the Hoxton\n",
      "ar rutbah - nearest hotel: No hotel found\n",
      "rice lake - nearest hotel: Paul Bunyan Resort\n",
      "faya-largeau - nearest hotel: No hotel found\n",
      "zhangzhou - nearest hotel: 漳州宾馆\n",
      "farim - nearest hotel: No hotel found\n"
     ]
    },
    {
     "data": {
      "text/html": [
       "<div>\n",
       "<style scoped>\n",
       "    .dataframe tbody tr th:only-of-type {\n",
       "        vertical-align: middle;\n",
       "    }\n",
       "\n",
       "    .dataframe tbody tr th {\n",
       "        vertical-align: top;\n",
       "    }\n",
       "\n",
       "    .dataframe thead th {\n",
       "        text-align: right;\n",
       "    }\n",
       "</style>\n",
       "<table border=\"1\" class=\"dataframe\">\n",
       "  <thead>\n",
       "    <tr style=\"text-align: right;\">\n",
       "      <th></th>\n",
       "      <th>City</th>\n",
       "      <th>Country</th>\n",
       "      <th>Lat</th>\n",
       "      <th>Lng</th>\n",
       "      <th>Humidity</th>\n",
       "      <th>Hotel Name</th>\n",
       "    </tr>\n",
       "  </thead>\n",
       "  <tbody>\n",
       "    <tr>\n",
       "      <th>5</th>\n",
       "      <td>al manshah</td>\n",
       "      <td>EG</td>\n",
       "      <td>26.4769</td>\n",
       "      <td>31.8035</td>\n",
       "      <td>19</td>\n",
       "      <td>No hotel found</td>\n",
       "    </tr>\n",
       "    <tr>\n",
       "      <th>8</th>\n",
       "      <td>blackmans bay</td>\n",
       "      <td>AU</td>\n",
       "      <td>-43.0167</td>\n",
       "      <td>147.3167</td>\n",
       "      <td>56</td>\n",
       "      <td>Villa Howden</td>\n",
       "    </tr>\n",
       "    <tr>\n",
       "      <th>11</th>\n",
       "      <td>alice springs</td>\n",
       "      <td>AU</td>\n",
       "      <td>-23.7000</td>\n",
       "      <td>133.8833</td>\n",
       "      <td>27</td>\n",
       "      <td>No hotel found</td>\n",
       "    </tr>\n",
       "    <tr>\n",
       "      <th>28</th>\n",
       "      <td>uruacu</td>\n",
       "      <td>BR</td>\n",
       "      <td>-14.5247</td>\n",
       "      <td>-49.1408</td>\n",
       "      <td>54</td>\n",
       "      <td>No hotel found</td>\n",
       "    </tr>\n",
       "    <tr>\n",
       "      <th>60</th>\n",
       "      <td>forbes</td>\n",
       "      <td>AU</td>\n",
       "      <td>-33.3833</td>\n",
       "      <td>148.0167</td>\n",
       "      <td>38</td>\n",
       "      <td>No hotel found</td>\n",
       "    </tr>\n",
       "    <tr>\n",
       "      <th>...</th>\n",
       "      <td>...</td>\n",
       "      <td>...</td>\n",
       "      <td>...</td>\n",
       "      <td>...</td>\n",
       "      <td>...</td>\n",
       "      <td>...</td>\n",
       "    </tr>\n",
       "    <tr>\n",
       "      <th>570</th>\n",
       "      <td>ar rutbah</td>\n",
       "      <td>IQ</td>\n",
       "      <td>33.0381</td>\n",
       "      <td>40.2848</td>\n",
       "      <td>22</td>\n",
       "      <td>No hotel found</td>\n",
       "    </tr>\n",
       "    <tr>\n",
       "      <th>574</th>\n",
       "      <td>rice lake</td>\n",
       "      <td>US</td>\n",
       "      <td>45.5061</td>\n",
       "      <td>-91.7382</td>\n",
       "      <td>26</td>\n",
       "      <td>Paul Bunyan Resort</td>\n",
       "    </tr>\n",
       "    <tr>\n",
       "      <th>576</th>\n",
       "      <td>faya-largeau</td>\n",
       "      <td>TD</td>\n",
       "      <td>17.9257</td>\n",
       "      <td>19.1043</td>\n",
       "      <td>8</td>\n",
       "      <td>No hotel found</td>\n",
       "    </tr>\n",
       "    <tr>\n",
       "      <th>577</th>\n",
       "      <td>zhangzhou</td>\n",
       "      <td>CN</td>\n",
       "      <td>24.5133</td>\n",
       "      <td>117.6556</td>\n",
       "      <td>63</td>\n",
       "      <td>漳州宾馆</td>\n",
       "    </tr>\n",
       "    <tr>\n",
       "      <th>582</th>\n",
       "      <td>farim</td>\n",
       "      <td>GW</td>\n",
       "      <td>12.4839</td>\n",
       "      <td>-15.2217</td>\n",
       "      <td>60</td>\n",
       "      <td>No hotel found</td>\n",
       "    </tr>\n",
       "  </tbody>\n",
       "</table>\n",
       "<p>107 rows × 6 columns</p>\n",
       "</div>"
      ],
      "text/plain": [
       "              City Country      Lat       Lng  Humidity          Hotel Name\n",
       "5       al manshah      EG  26.4769   31.8035        19      No hotel found\n",
       "8    blackmans bay      AU -43.0167  147.3167        56        Villa Howden\n",
       "11   alice springs      AU -23.7000  133.8833        27      No hotel found\n",
       "28          uruacu      BR -14.5247  -49.1408        54      No hotel found\n",
       "60          forbes      AU -33.3833  148.0167        38      No hotel found\n",
       "..             ...     ...      ...       ...       ...                 ...\n",
       "570      ar rutbah      IQ  33.0381   40.2848        22      No hotel found\n",
       "574      rice lake      US  45.5061  -91.7382        26  Paul Bunyan Resort\n",
       "576   faya-largeau      TD  17.9257   19.1043         8      No hotel found\n",
       "577      zhangzhou      CN  24.5133  117.6556        63                漳州宾馆\n",
       "582          farim      GW  12.4839  -15.2217        60      No hotel found\n",
       "\n",
       "[107 rows x 6 columns]"
      ]
     },
     "execution_count": 8,
     "metadata": {},
     "output_type": "execute_result"
    }
   ],
   "source": [
    "# Set parameters to search for a hotel\n",
    "radius = 10000\n",
    "params = {\n",
    "    \"categories\": \"accommodation.hotel\",\n",
    "    \"limit\": 1,\n",
    "    \"apiKey\": geoapify_key\n",
    "}\n",
    "\n",
    "# Print a message to follow up the hotel search\n",
    "print(\"Starting hotel search\")\n",
    "\n",
    "# Iterate through the hotel_df DataFrame\n",
    "for index, row in hotel_df.iterrows():\n",
    "    lat = row[\"Lat\"]\n",
    "    lon = row[\"Lng\"]\n",
    "\n",
    "    # Add the current city's latitude and longitude to the params dictionary\n",
    "    params[\"filter\"] = f\"circle:{lon},{lat},{radius}\"\n",
    "    params[\"bias\"] = f\"proximity:{lon},{lat}\"\n",
    "\n",
    "\n",
    "    # Set base URL\n",
    "    base_url = \"https://api.geoapify.com/v2/places\"\n",
    "\n",
    "    # Make and API request using the params dictionary\n",
    "    response = requests.get(base_url, params=params)\n",
    "\n",
    "    # Convert the API response to JSON format\n",
    "    name_address = response.json()\n",
    "\n",
    "    # Grab the first hotel from the results and store the name in the hotel_df DataFrame\n",
    "    try:\n",
    "        hotel_df.loc[index, \"Hotel Name\"] = name_address[\"features\"][0][\"properties\"][\"name\"]\n",
    "    except (KeyError, IndexError):\n",
    "        # If no hotel is found, set the hotel name as \"No hotel found\".\n",
    "        hotel_df.loc[index, \"Hotel Name\"] = \"No hotel found\"\n",
    "\n",
    "    # Log the search results\n",
    "    print(f\"{hotel_df.loc[index, 'City']} - nearest hotel: {hotel_df.loc[index, 'Hotel Name']}\")\n",
    "\n",
    "# Display sample data\n",
    "hotel_df"
   ]
  },
  {
   "cell_type": "markdown",
   "metadata": {},
   "source": [
    "### Step 5: Add the hotel name and the country as additional information in the hover message for each city in the map."
   ]
  },
  {
   "cell_type": "code",
   "execution_count": 11,
   "metadata": {},
   "outputs": [
    {
     "data": {
      "application/vnd.plotly.v1+json": {
       "config": {
        "plotlyServerURL": "https://plot.ly"
       },
       "data": [
        {
         "customdata": [
          [
           "EG",
           "No hotel found",
           19
          ],
          [
           "AU",
           "Villa Howden",
           56
          ],
          [
           "AU",
           "No hotel found",
           27
          ],
          [
           "BR",
           "No hotel found",
           54
          ],
          [
           "AU",
           "No hotel found",
           38
          ],
          [
           "DZ",
           "فندق سوف",
           48
          ],
          [
           "AU",
           "No hotel found",
           47
          ],
          [
           "AU",
           "Margaret River Hotel",
           61
          ],
          [
           "AU",
           "Hotel Marlin",
           58
          ],
          [
           "TR",
           "No hotel found",
           54
          ],
          [
           "CA",
           "Colonial Square Inn & Suites",
           34
          ],
          [
           "TL",
           "Hotel Wailakurini",
           60
          ],
          [
           "KZ",
           "No hotel found",
           32
          ],
          [
           "CN",
           "喆啡酒店",
           15
          ],
          [
           "RU",
           "No hotel found",
           43
          ],
          [
           "US",
           "Holiday Inn Express & Suites",
           35
          ],
          [
           "CN",
           "汉庭酒店",
           18
          ],
          [
           "US",
           "Clarion Inn Page - Lake Powell",
           16
          ],
          [
           "MN",
           "Altai hotel 40000-100000T",
           15
          ],
          [
           "CN",
           "Zhangye Hotel 张掖饭店",
           6
          ],
          [
           "KZ",
           "No hotel found",
           31
          ],
          [
           "KZ",
           "Гостиница \"Арсенал\"",
           55
          ],
          [
           "EG",
           "No hotel found",
           23
          ],
          [
           "RU",
           "No hotel found",
           44
          ],
          [
           "MN",
           "Khovd hotel",
           10
          ],
          [
           "US",
           "No hotel found",
           42
          ],
          [
           "CN",
           "速8酒店",
           14
          ],
          [
           "SD",
           "No hotel found",
           7
          ],
          [
           "AU",
           "Ocean Centre Hotel",
           51
          ],
          [
           "TR",
           "Sezer otel",
           38
          ],
          [
           "CN",
           "No hotel found",
           43
          ],
          [
           "US",
           "Airborne Inn Lodging",
           48
          ],
          [
           "AU",
           "Ibis Styles",
           34
          ],
          [
           "EG",
           "صقور",
           29
          ],
          [
           "LY",
           "فندق تاسيلي",
           29
          ],
          [
           "US",
           "Quality Inn",
           40
          ],
          [
           "MN",
           "New World Hotel",
           28
          ],
          [
           "SS",
           "No hotel found",
           44
          ],
          [
           "YE",
           "No hotel found",
           64
          ],
          [
           "MX",
           "Comfort Rooms",
           57
          ],
          [
           "TR",
           "Uyguluma Oteli",
           58
          ],
          [
           "CN",
           "No hotel found",
           8
          ],
          [
           "AU",
           "Boston Hotel",
           44
          ],
          [
           "KG",
           "Asia",
           52
          ],
          [
           "ML",
           "No hotel found",
           10
          ],
          [
           "KZ",
           "No hotel found",
           49
          ],
          [
           "US",
           "No hotel found",
           61
          ],
          [
           "CF",
           "No hotel found",
           45
          ],
          [
           "AU",
           "The Beach Hotel",
           57
          ],
          [
           "LY",
           "No hotel found",
           43
          ],
          [
           "CN",
           "No hotel found",
           18
          ],
          [
           "AU",
           "Hotel Commonwealth",
           24
          ],
          [
           "CN",
           "No hotel found",
           20
          ],
          [
           "AF",
           "No hotel found",
           36
          ],
          [
           "CN",
           "民族宾馆",
           7
          ],
          [
           "BR",
           "Pousada Vitória",
           26
          ],
          [
           "RU",
           "No hotel found",
           22
          ],
          [
           "MR",
           "No hotel found",
           31
          ],
          [
           "CF",
           "No hotel found",
           65
          ],
          [
           "CN",
           "No hotel found",
           39
          ],
          [
           "MA",
           "No hotel found",
           19
          ],
          [
           "DZ",
           "فندق مكثر",
           26
          ],
          [
           "SN",
           "No hotel found",
           35
          ],
          [
           "IR",
           "هتل دامون",
           24
          ],
          [
           "PS",
           "Retno Hotel",
           27
          ],
          [
           "CN",
           "No hotel found",
           22
          ],
          [
           "LY",
           "No hotel found",
           18
          ],
          [
           "TM",
           "Hazar Myhmanhanasy",
           21
          ],
          [
           "NE",
           "Guest PAM",
           13
          ],
          [
           "ZA",
           "Outback Inn",
           50
          ],
          [
           "CN",
           "商务宾馆",
           18
          ],
          [
           "NE",
           "Hôtel Zagado",
           11
          ],
          [
           "MR",
           "فندق تيرس زمور",
           47
          ],
          [
           "US",
           "Journey Inn Woodland - Sacramento Airport",
           53
          ],
          [
           "US",
           "Historic Olive Hotel",
           48
          ],
          [
           "RU",
           "No hotel found",
           44
          ],
          [
           "AU",
           "Route 66 Motor Inn",
           49
          ],
          [
           "US",
           "Country Inn & Suites",
           30
          ],
          [
           "RU",
           "Серебряный створ",
           29
          ],
          [
           "AU",
           "Ibis Styles",
           36
          ],
          [
           "KZ",
           "Тарлан",
           60
          ],
          [
           "RU",
           "Отель Енисейский",
           39
          ],
          [
           "MX",
           "No hotel found",
           28
          ],
          [
           "US",
           "No hotel found",
           56
          ],
          [
           "CN",
           "No hotel found",
           9
          ],
          [
           "CN",
           "如家酒店(天津塘沽外滩营口道店)",
           28
          ],
          [
           "US",
           "No hotel found",
           35
          ],
          [
           "CN",
           "No hotel found",
           35
          ],
          [
           "CN",
           "No hotel found",
           48
          ],
          [
           "MX",
           "Hotel Marina Topolobampo",
           53
          ],
          [
           "CL",
           "Hotel del Marqués",
           17
          ],
          [
           "KG",
           "Кунрат",
           52
          ],
          [
           "CN",
           "No hotel found",
           43
          ],
          [
           "AU",
           "Burke and Wills Motor Inn",
           35
          ],
          [
           "CN",
           "Qinghai hotel",
           16
          ],
          [
           "DZ",
           "محمد بوسبي",
           32
          ],
          [
           "CN",
           "丽水华侨开元名都大酒店",
           33
          ],
          [
           "KZ",
           "Orley",
           35
          ],
          [
           "US",
           "Comfort Inn & Suites",
           50
          ],
          [
           "DZ",
           "فندق الأمان",
           18
          ],
          [
           "OM",
           "Sur Hotel",
           58
          ],
          [
           "US",
           "the Hoxton",
           59
          ],
          [
           "IQ",
           "No hotel found",
           22
          ],
          [
           "US",
           "Paul Bunyan Resort",
           26
          ],
          [
           "TD",
           "No hotel found",
           8
          ],
          [
           "CN",
           "漳州宾馆",
           63
          ],
          [
           "GW",
           "No hotel found",
           60
          ]
         ],
         "geo": "geo",
         "hovertemplate": "<b>%{hovertext}</b><br><br>Lat=%{lat}<br>Lng=%{lon}<br>Country=%{customdata[0]}<br>Hotel Name=%{customdata[1]}<br>Humidity=%{marker.color}<extra></extra>",
         "hovertext": [
          "al manshah",
          "blackmans bay",
          "alice springs",
          "uruacu",
          "forbes",
          "el oued",
          "codrington",
          "margaret river",
          "ulladulla",
          "oltu",
          "saskatoon",
          "viqueque",
          "zhanaozen",
          "kaifeng",
          "klyuchi",
          "laguna",
          "shiyan",
          "page",
          "altai",
          "zhangye",
          "leninskoye",
          "arkalyk",
          "al qusiyah",
          "lesosibirsk",
          "hovd",
          "meadow lake",
          "changping",
          "umm kaddadah",
          "geraldton",
          "karapinar",
          "feicheng",
          "fort bragg",
          "mount isa",
          "mersa matruh",
          "ghat",
          "brookings",
          "zuunmod",
          "raja",
          "hadibu",
          "cabo san lucas",
          "beykonak",
          "jinchang",
          "port lincoln",
          "kerben",
          "kidal",
          "zhezqazghan",
          "newman",
          "ouadda",
          "aldinga beach",
          "mizdah",
          "xingtai",
          "port augusta",
          "liaozhong",
          "mehtar lam",
          "jiuquan",
          "sao vicente",
          "dul'durga",
          "adrar",
          "kouango",
          "xiuyan",
          "figuig (centre)",
          "ain sefra",
          "baiti",
          "shahr-e kord",
          "palestina",
          "xinqing",
          "awjilah",
          "turkmenbasy",
          "nguigmi",
          "port saint john's",
          "zhangjiakou",
          "alaghsas",
          "zouerate",
          "woodland",
          "miles city",
          "mishelevka",
          "emerald",
          "cottage grove",
          "zeya",
          "broken hill",
          "nur-sultan",
          "yeniseysk",
          "san julian",
          "crane",
          "laojunmiao",
          "tanggu",
          "spanish springs",
          "bozhou",
          "huangmei",
          "topolobampo",
          "vallenar",
          "uzgen",
          "gejiu",
          "swan hill",
          "xining",
          "tindouf",
          "lishui",
          "lepsy",
          "prairie view",
          "tamanrasset",
          "sur",
          "portland",
          "ar rutbah",
          "rice lake",
          "faya-largeau",
          "zhangzhou",
          "farim"
         ],
         "lat": [
          26.4769,
          -43.0167,
          -23.7,
          -14.5247,
          -33.3833,
          33.3561,
          -38.2667,
          -33.95,
          -35.35,
          40.5498,
          52.1168,
          -8.8673,
          43.3,
          34.7911,
          52.2667,
          38.421,
          32.6475,
          36.9147,
          46.3722,
          38.9342,
          41.7589,
          50.2486,
          27.4402,
          58.2358,
          48.0056,
          34.8014,
          40.2186,
          13.6017,
          -28.7667,
          37.716,
          35.2606,
          35.139,
          -20.7333,
          31.3525,
          24.9647,
          44.3114,
          47.7069,
          8.4596,
          12.65,
          22.8909,
          36.3257,
          38.4953,
          -34.7333,
          40.2951,
          18.4411,
          47.7833,
          37.3138,
          8.0777,
          -35.2793,
          31.4451,
          37.0631,
          -32.5,
          41.5061,
          34.6714,
          39.7432,
          -23.9631,
          50.6761,
          20.5022,
          4.9934,
          40.2928,
          32.1089,
          32.75,
          13.745,
          32.3256,
          31.9216,
          48.2333,
          29.1081,
          40.0222,
          14.2495,
          -31.6229,
          40.81,
          17.0187,
          22.7187,
          38.6785,
          46.4083,
          52.8575,
          -23.5333,
          44.8277,
          53.75,
          -31.95,
          51.1801,
          58.4497,
          21.0167,
          31.3974,
          39.8333,
          39.0211,
          39.6491,
          33.8772,
          30.1924,
          25.6,
          -28.5708,
          40.7699,
          23.306,
          -35.3378,
          36.6167,
          27.6711,
          28.4604,
          46.235,
          30.0933,
          22.785,
          22.5667,
          45.5234,
          33.0381,
          45.5061,
          17.9257,
          24.5133,
          12.4839
         ],
         "legendgroup": "",
         "lon": [
          31.8035,
          147.3167,
          133.8833,
          -49.1408,
          148.0167,
          6.8632,
          141.9667,
          115.0667,
          150.4667,
          42.0013,
          -106.6345,
          126.3658,
          52.8,
          114.3483,
          79.1667,
          -121.4238,
          110.7781,
          -111.4558,
          96.2583,
          100.4517,
          69.3864,
          66.9114,
          30.8184,
          92.4828,
          91.6419,
          -106.5436,
          116.2197,
          26.6876,
          114.6,
          33.5506,
          117.9675,
          -79.006,
          139.5,
          27.2453,
          10.1728,
          -96.7984,
          106.9528,
          25.678,
          54.0333,
          -109.9124,
          30.303,
          102.1739,
          135.8667,
          72.1863,
          1.4078,
          67.7667,
          -121.0208,
          22.4007,
          138.4604,
          12.9801,
          114.4942,
          137.7667,
          122.7242,
          70.2094,
          98.5174,
          -46.3919,
          113.5931,
          -10.0711,
          19.9619,
          123.2744,
          -1.2286,
          -0.5833,
          -14.7482,
          50.8644,
          35.2033,
          129.5,
          21.2869,
          52.9552,
          13.1092,
          29.5448,
          114.8794,
          8.0168,
          -12.4521,
          -121.7733,
          -105.8406,
          103.1719,
          148.1667,
          -92.9438,
          127.2667,
          141.4333,
          71.446,
          92.1703,
          -102.1667,
          -102.3501,
          97.7333,
          117.6469,
          -119.7074,
          115.7703,
          116.025,
          -109.05,
          -70.7581,
          73.3007,
          103.1635,
          143.5544,
          101.7667,
          -8.1474,
          119.9103,
          78.9456,
          -95.9877,
          5.5228,
          59.5289,
          -122.6762,
          40.2848,
          -91.7382,
          19.1043,
          117.6556,
          -15.2217
         ],
         "marker": {
          "color": [
           19,
           56,
           27,
           54,
           38,
           48,
           47,
           61,
           58,
           54,
           34,
           60,
           32,
           15,
           43,
           35,
           18,
           16,
           15,
           6,
           31,
           55,
           23,
           44,
           10,
           42,
           14,
           7,
           51,
           38,
           43,
           48,
           34,
           29,
           29,
           40,
           28,
           44,
           64,
           57,
           58,
           8,
           44,
           52,
           10,
           49,
           61,
           45,
           57,
           43,
           18,
           24,
           20,
           36,
           7,
           26,
           22,
           31,
           65,
           39,
           19,
           26,
           35,
           24,
           27,
           22,
           18,
           21,
           13,
           50,
           18,
           11,
           47,
           53,
           48,
           44,
           49,
           30,
           29,
           36,
           60,
           39,
           28,
           56,
           9,
           28,
           35,
           35,
           48,
           53,
           17,
           52,
           43,
           35,
           16,
           32,
           33,
           35,
           50,
           18,
           58,
           59,
           22,
           26,
           8,
           63,
           60
          ],
          "coloraxis": "coloraxis",
          "symbol": "circle"
         },
         "mode": "markers",
         "name": "",
         "showlegend": false,
         "type": "scattergeo"
        }
       ],
       "layout": {
        "coloraxis": {
         "colorbar": {
          "title": {
           "text": "Humidity"
          }
         },
         "colorscale": [
          [
           0,
           "rgb(247,251,255)"
          ],
          [
           0.125,
           "rgb(222,235,247)"
          ],
          [
           0.25,
           "rgb(198,219,239)"
          ],
          [
           0.375,
           "rgb(158,202,225)"
          ],
          [
           0.5,
           "rgb(107,174,214)"
          ],
          [
           0.625,
           "rgb(66,146,198)"
          ],
          [
           0.75,
           "rgb(33,113,181)"
          ],
          [
           0.875,
           "rgb(8,81,156)"
          ],
          [
           1,
           "rgb(8,48,107)"
          ]
         ]
        },
        "geo": {
         "center": {},
         "domain": {
          "x": [
           0,
           1
          ],
          "y": [
           0,
           1
          ]
         },
         "landcolor": "lightgray",
         "projection": {
          "type": "natural earth"
         },
         "showland": true
        },
        "legend": {
         "tracegroupgap": 0
        },
        "template": {
         "data": {
          "bar": [
           {
            "error_x": {
             "color": "#2a3f5f"
            },
            "error_y": {
             "color": "#2a3f5f"
            },
            "marker": {
             "line": {
              "color": "#E5ECF6",
              "width": 0.5
             },
             "pattern": {
              "fillmode": "overlay",
              "size": 10,
              "solidity": 0.2
             }
            },
            "type": "bar"
           }
          ],
          "barpolar": [
           {
            "marker": {
             "line": {
              "color": "#E5ECF6",
              "width": 0.5
             },
             "pattern": {
              "fillmode": "overlay",
              "size": 10,
              "solidity": 0.2
             }
            },
            "type": "barpolar"
           }
          ],
          "carpet": [
           {
            "aaxis": {
             "endlinecolor": "#2a3f5f",
             "gridcolor": "white",
             "linecolor": "white",
             "minorgridcolor": "white",
             "startlinecolor": "#2a3f5f"
            },
            "baxis": {
             "endlinecolor": "#2a3f5f",
             "gridcolor": "white",
             "linecolor": "white",
             "minorgridcolor": "white",
             "startlinecolor": "#2a3f5f"
            },
            "type": "carpet"
           }
          ],
          "choropleth": [
           {
            "colorbar": {
             "outlinewidth": 0,
             "ticks": ""
            },
            "type": "choropleth"
           }
          ],
          "contour": [
           {
            "colorbar": {
             "outlinewidth": 0,
             "ticks": ""
            },
            "colorscale": [
             [
              0,
              "#0d0887"
             ],
             [
              0.1111111111111111,
              "#46039f"
             ],
             [
              0.2222222222222222,
              "#7201a8"
             ],
             [
              0.3333333333333333,
              "#9c179e"
             ],
             [
              0.4444444444444444,
              "#bd3786"
             ],
             [
              0.5555555555555556,
              "#d8576b"
             ],
             [
              0.6666666666666666,
              "#ed7953"
             ],
             [
              0.7777777777777778,
              "#fb9f3a"
             ],
             [
              0.8888888888888888,
              "#fdca26"
             ],
             [
              1,
              "#f0f921"
             ]
            ],
            "type": "contour"
           }
          ],
          "contourcarpet": [
           {
            "colorbar": {
             "outlinewidth": 0,
             "ticks": ""
            },
            "type": "contourcarpet"
           }
          ],
          "heatmap": [
           {
            "colorbar": {
             "outlinewidth": 0,
             "ticks": ""
            },
            "colorscale": [
             [
              0,
              "#0d0887"
             ],
             [
              0.1111111111111111,
              "#46039f"
             ],
             [
              0.2222222222222222,
              "#7201a8"
             ],
             [
              0.3333333333333333,
              "#9c179e"
             ],
             [
              0.4444444444444444,
              "#bd3786"
             ],
             [
              0.5555555555555556,
              "#d8576b"
             ],
             [
              0.6666666666666666,
              "#ed7953"
             ],
             [
              0.7777777777777778,
              "#fb9f3a"
             ],
             [
              0.8888888888888888,
              "#fdca26"
             ],
             [
              1,
              "#f0f921"
             ]
            ],
            "type": "heatmap"
           }
          ],
          "heatmapgl": [
           {
            "colorbar": {
             "outlinewidth": 0,
             "ticks": ""
            },
            "colorscale": [
             [
              0,
              "#0d0887"
             ],
             [
              0.1111111111111111,
              "#46039f"
             ],
             [
              0.2222222222222222,
              "#7201a8"
             ],
             [
              0.3333333333333333,
              "#9c179e"
             ],
             [
              0.4444444444444444,
              "#bd3786"
             ],
             [
              0.5555555555555556,
              "#d8576b"
             ],
             [
              0.6666666666666666,
              "#ed7953"
             ],
             [
              0.7777777777777778,
              "#fb9f3a"
             ],
             [
              0.8888888888888888,
              "#fdca26"
             ],
             [
              1,
              "#f0f921"
             ]
            ],
            "type": "heatmapgl"
           }
          ],
          "histogram": [
           {
            "marker": {
             "pattern": {
              "fillmode": "overlay",
              "size": 10,
              "solidity": 0.2
             }
            },
            "type": "histogram"
           }
          ],
          "histogram2d": [
           {
            "colorbar": {
             "outlinewidth": 0,
             "ticks": ""
            },
            "colorscale": [
             [
              0,
              "#0d0887"
             ],
             [
              0.1111111111111111,
              "#46039f"
             ],
             [
              0.2222222222222222,
              "#7201a8"
             ],
             [
              0.3333333333333333,
              "#9c179e"
             ],
             [
              0.4444444444444444,
              "#bd3786"
             ],
             [
              0.5555555555555556,
              "#d8576b"
             ],
             [
              0.6666666666666666,
              "#ed7953"
             ],
             [
              0.7777777777777778,
              "#fb9f3a"
             ],
             [
              0.8888888888888888,
              "#fdca26"
             ],
             [
              1,
              "#f0f921"
             ]
            ],
            "type": "histogram2d"
           }
          ],
          "histogram2dcontour": [
           {
            "colorbar": {
             "outlinewidth": 0,
             "ticks": ""
            },
            "colorscale": [
             [
              0,
              "#0d0887"
             ],
             [
              0.1111111111111111,
              "#46039f"
             ],
             [
              0.2222222222222222,
              "#7201a8"
             ],
             [
              0.3333333333333333,
              "#9c179e"
             ],
             [
              0.4444444444444444,
              "#bd3786"
             ],
             [
              0.5555555555555556,
              "#d8576b"
             ],
             [
              0.6666666666666666,
              "#ed7953"
             ],
             [
              0.7777777777777778,
              "#fb9f3a"
             ],
             [
              0.8888888888888888,
              "#fdca26"
             ],
             [
              1,
              "#f0f921"
             ]
            ],
            "type": "histogram2dcontour"
           }
          ],
          "mesh3d": [
           {
            "colorbar": {
             "outlinewidth": 0,
             "ticks": ""
            },
            "type": "mesh3d"
           }
          ],
          "parcoords": [
           {
            "line": {
             "colorbar": {
              "outlinewidth": 0,
              "ticks": ""
             }
            },
            "type": "parcoords"
           }
          ],
          "pie": [
           {
            "automargin": true,
            "type": "pie"
           }
          ],
          "scatter": [
           {
            "fillpattern": {
             "fillmode": "overlay",
             "size": 10,
             "solidity": 0.2
            },
            "type": "scatter"
           }
          ],
          "scatter3d": [
           {
            "line": {
             "colorbar": {
              "outlinewidth": 0,
              "ticks": ""
             }
            },
            "marker": {
             "colorbar": {
              "outlinewidth": 0,
              "ticks": ""
             }
            },
            "type": "scatter3d"
           }
          ],
          "scattercarpet": [
           {
            "marker": {
             "colorbar": {
              "outlinewidth": 0,
              "ticks": ""
             }
            },
            "type": "scattercarpet"
           }
          ],
          "scattergeo": [
           {
            "marker": {
             "colorbar": {
              "outlinewidth": 0,
              "ticks": ""
             }
            },
            "type": "scattergeo"
           }
          ],
          "scattergl": [
           {
            "marker": {
             "colorbar": {
              "outlinewidth": 0,
              "ticks": ""
             }
            },
            "type": "scattergl"
           }
          ],
          "scattermapbox": [
           {
            "marker": {
             "colorbar": {
              "outlinewidth": 0,
              "ticks": ""
             }
            },
            "type": "scattermapbox"
           }
          ],
          "scatterpolar": [
           {
            "marker": {
             "colorbar": {
              "outlinewidth": 0,
              "ticks": ""
             }
            },
            "type": "scatterpolar"
           }
          ],
          "scatterpolargl": [
           {
            "marker": {
             "colorbar": {
              "outlinewidth": 0,
              "ticks": ""
             }
            },
            "type": "scatterpolargl"
           }
          ],
          "scatterternary": [
           {
            "marker": {
             "colorbar": {
              "outlinewidth": 0,
              "ticks": ""
             }
            },
            "type": "scatterternary"
           }
          ],
          "surface": [
           {
            "colorbar": {
             "outlinewidth": 0,
             "ticks": ""
            },
            "colorscale": [
             [
              0,
              "#0d0887"
             ],
             [
              0.1111111111111111,
              "#46039f"
             ],
             [
              0.2222222222222222,
              "#7201a8"
             ],
             [
              0.3333333333333333,
              "#9c179e"
             ],
             [
              0.4444444444444444,
              "#bd3786"
             ],
             [
              0.5555555555555556,
              "#d8576b"
             ],
             [
              0.6666666666666666,
              "#ed7953"
             ],
             [
              0.7777777777777778,
              "#fb9f3a"
             ],
             [
              0.8888888888888888,
              "#fdca26"
             ],
             [
              1,
              "#f0f921"
             ]
            ],
            "type": "surface"
           }
          ],
          "table": [
           {
            "cells": {
             "fill": {
              "color": "#EBF0F8"
             },
             "line": {
              "color": "white"
             }
            },
            "header": {
             "fill": {
              "color": "#C8D4E3"
             },
             "line": {
              "color": "white"
             }
            },
            "type": "table"
           }
          ]
         },
         "layout": {
          "annotationdefaults": {
           "arrowcolor": "#2a3f5f",
           "arrowhead": 0,
           "arrowwidth": 1
          },
          "autotypenumbers": "strict",
          "coloraxis": {
           "colorbar": {
            "outlinewidth": 0,
            "ticks": ""
           }
          },
          "colorscale": {
           "diverging": [
            [
             0,
             "#8e0152"
            ],
            [
             0.1,
             "#c51b7d"
            ],
            [
             0.2,
             "#de77ae"
            ],
            [
             0.3,
             "#f1b6da"
            ],
            [
             0.4,
             "#fde0ef"
            ],
            [
             0.5,
             "#f7f7f7"
            ],
            [
             0.6,
             "#e6f5d0"
            ],
            [
             0.7,
             "#b8e186"
            ],
            [
             0.8,
             "#7fbc41"
            ],
            [
             0.9,
             "#4d9221"
            ],
            [
             1,
             "#276419"
            ]
           ],
           "sequential": [
            [
             0,
             "#0d0887"
            ],
            [
             0.1111111111111111,
             "#46039f"
            ],
            [
             0.2222222222222222,
             "#7201a8"
            ],
            [
             0.3333333333333333,
             "#9c179e"
            ],
            [
             0.4444444444444444,
             "#bd3786"
            ],
            [
             0.5555555555555556,
             "#d8576b"
            ],
            [
             0.6666666666666666,
             "#ed7953"
            ],
            [
             0.7777777777777778,
             "#fb9f3a"
            ],
            [
             0.8888888888888888,
             "#fdca26"
            ],
            [
             1,
             "#f0f921"
            ]
           ],
           "sequentialminus": [
            [
             0,
             "#0d0887"
            ],
            [
             0.1111111111111111,
             "#46039f"
            ],
            [
             0.2222222222222222,
             "#7201a8"
            ],
            [
             0.3333333333333333,
             "#9c179e"
            ],
            [
             0.4444444444444444,
             "#bd3786"
            ],
            [
             0.5555555555555556,
             "#d8576b"
            ],
            [
             0.6666666666666666,
             "#ed7953"
            ],
            [
             0.7777777777777778,
             "#fb9f3a"
            ],
            [
             0.8888888888888888,
             "#fdca26"
            ],
            [
             1,
             "#f0f921"
            ]
           ]
          },
          "colorway": [
           "#636efa",
           "#EF553B",
           "#00cc96",
           "#ab63fa",
           "#FFA15A",
           "#19d3f3",
           "#FF6692",
           "#B6E880",
           "#FF97FF",
           "#FECB52"
          ],
          "font": {
           "color": "#2a3f5f"
          },
          "geo": {
           "bgcolor": "white",
           "lakecolor": "white",
           "landcolor": "#E5ECF6",
           "showlakes": true,
           "showland": true,
           "subunitcolor": "white"
          },
          "hoverlabel": {
           "align": "left"
          },
          "hovermode": "closest",
          "mapbox": {
           "style": "light"
          },
          "paper_bgcolor": "white",
          "plot_bgcolor": "#E5ECF6",
          "polar": {
           "angularaxis": {
            "gridcolor": "white",
            "linecolor": "white",
            "ticks": ""
           },
           "bgcolor": "#E5ECF6",
           "radialaxis": {
            "gridcolor": "white",
            "linecolor": "white",
            "ticks": ""
           }
          },
          "scene": {
           "xaxis": {
            "backgroundcolor": "#E5ECF6",
            "gridcolor": "white",
            "gridwidth": 2,
            "linecolor": "white",
            "showbackground": true,
            "ticks": "",
            "zerolinecolor": "white"
           },
           "yaxis": {
            "backgroundcolor": "#E5ECF6",
            "gridcolor": "white",
            "gridwidth": 2,
            "linecolor": "white",
            "showbackground": true,
            "ticks": "",
            "zerolinecolor": "white"
           },
           "zaxis": {
            "backgroundcolor": "#E5ECF6",
            "gridcolor": "white",
            "gridwidth": 2,
            "linecolor": "white",
            "showbackground": true,
            "ticks": "",
            "zerolinecolor": "white"
           }
          },
          "shapedefaults": {
           "line": {
            "color": "#2a3f5f"
           }
          },
          "ternary": {
           "aaxis": {
            "gridcolor": "white",
            "linecolor": "white",
            "ticks": ""
           },
           "baxis": {
            "gridcolor": "white",
            "linecolor": "white",
            "ticks": ""
           },
           "bgcolor": "#E5ECF6",
           "caxis": {
            "gridcolor": "white",
            "linecolor": "white",
            "ticks": ""
           }
          },
          "title": {
           "x": 0.05
          },
          "xaxis": {
           "automargin": true,
           "gridcolor": "white",
           "linecolor": "white",
           "ticks": "",
           "title": {
            "standoff": 15
           },
           "zerolinecolor": "white",
           "zerolinewidth": 2
          },
          "yaxis": {
           "automargin": true,
           "gridcolor": "white",
           "linecolor": "white",
           "ticks": "",
           "title": {
            "standoff": 15
           },
           "zerolinecolor": "white",
           "zerolinewidth": 2
          }
         }
        },
        "title": {
         "text": "Recommended Hotel Locations Based on Weather Criteria",
         "x": 0.5
        }
       }
      }
     },
     "metadata": {},
     "output_type": "display_data"
    }
   ],
   "source": [
    "\n",
    "import plotly.express as px\n",
    "\n",
    "# Create a scatter map for hotel locations\n",
    "fig = px.scatter_geo(\n",
    "    hotel_df,\n",
    "    lat=\"Lat\",\n",
    "    lon=\"Lng\",\n",
    "    color=\"Humidity\",\n",
    "    size_max=15,\n",
    "    hover_name=\"City\",\n",
    "    hover_data=[\"Country\", \"Hotel Name\", \"Humidity\"],\n",
    "    projection=\"natural earth\",\n",
    "    title=\"Recommended Hotel Locations Based on Weather Criteria\",\n",
    "    color_continuous_scale=\"Blues\"\n",
    ")\n",
    "\n",
    "fig.update_layout(\n",
    "    geo=dict(showland=True, landcolor=\"lightgray\"),\n",
    "    title_x=0.5\n",
    ")\n",
    "\n",
    "# Show the map\n",
    "fig.show()\n"
   ]
  },
  {
   "cell_type": "code",
   "execution_count": null,
   "metadata": {},
   "outputs": [],
   "source": []
  }
 ],
 "metadata": {
  "kernelspec": {
   "display_name": "dev",
   "language": "python",
   "name": "python3"
  },
  "language_info": {
   "codemirror_mode": {
    "name": "ipython",
    "version": 3
   },
   "file_extension": ".py",
   "mimetype": "text/x-python",
   "name": "python",
   "nbconvert_exporter": "python",
   "pygments_lexer": "ipython3",
   "version": "3.10.16"
  },
  "latex_envs": {
   "LaTeX_envs_menu_present": true,
   "autoclose": false,
   "autocomplete": true,
   "bibliofile": "biblio.bib",
   "cite_by": "apalike",
   "current_citInitial": 1,
   "eqLabelWithNumbers": true,
   "eqNumInitial": 1,
   "hotkeys": {
    "equation": "Ctrl-E",
    "itemize": "Ctrl-I"
   },
   "labels_anchors": false,
   "latex_user_defs": false,
   "report_style_numbering": false,
   "user_envs_cfg": false
  }
 },
 "nbformat": 4,
 "nbformat_minor": 4
}
